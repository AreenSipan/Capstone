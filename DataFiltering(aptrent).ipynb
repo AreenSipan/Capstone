{
 "cells": [
  {
   "cell_type": "code",
   "execution_count": 27,
   "id": "f9e97c7d",
   "metadata": {},
   "outputs": [
    {
     "data": {
      "text/html": [
       "<div>\n",
       "<style scoped>\n",
       "    .dataframe tbody tr th:only-of-type {\n",
       "        vertical-align: middle;\n",
       "    }\n",
       "\n",
       "    .dataframe tbody tr th {\n",
       "        vertical-align: top;\n",
       "    }\n",
       "\n",
       "    .dataframe thead th {\n",
       "        text-align: right;\n",
       "    }\n",
       "</style>\n",
       "<table border=\"1\" class=\"dataframe\">\n",
       "  <thead>\n",
       "    <tr style=\"text-align: right;\">\n",
       "      <th></th>\n",
       "      <th>ID</th>\n",
       "      <th>Location</th>\n",
       "      <th>Region</th>\n",
       "      <th>District</th>\n",
       "      <th>Street</th>\n",
       "      <th>Price</th>\n",
       "      <th>Views</th>\n",
       "      <th>Area</th>\n",
       "      <th>Room</th>\n",
       "      <th>Floor</th>\n",
       "      <th>...</th>\n",
       "      <th>Condition</th>\n",
       "      <th>Date Added</th>\n",
       "      <th>Date Edited</th>\n",
       "      <th>Date Scraped</th>\n",
       "      <th>Latitude</th>\n",
       "      <th>Longitude</th>\n",
       "      <th>Address</th>\n",
       "      <th>Facilities</th>\n",
       "      <th>Additional Info</th>\n",
       "      <th>url</th>\n",
       "    </tr>\n",
       "  </thead>\n",
       "  <tbody>\n",
       "    <tr>\n",
       "      <th>0</th>\n",
       "      <td>84218</td>\n",
       "      <td>Yerevan, Center, Saryan St</td>\n",
       "      <td>Yerevan</td>\n",
       "      <td>Center</td>\n",
       "      <td>Saryan St</td>\n",
       "      <td>600</td>\n",
       "      <td>2929.0</td>\n",
       "      <td>75</td>\n",
       "      <td>2</td>\n",
       "      <td>9</td>\n",
       "      <td>...</td>\n",
       "      <td>Good</td>\n",
       "      <td>10.09.2019</td>\n",
       "      <td>14.12.2019</td>\n",
       "      <td>08.05.2022</td>\n",
       "      <td>40.182390</td>\n",
       "      <td>44.505119</td>\n",
       "      <td>27, Սարյանի փողոց, Կենտրոն, Երևան, 0002, Հայաստան</td>\n",
       "      <td>['Heating', 'Internet', 'Hot water', 'Electric...</td>\n",
       "      <td>['Furniture', 'Equipment', 'Euro windows', 'Ti...</td>\n",
       "      <td>https://myrealty.am/en/2-bedroom/apartment-for...</td>\n",
       "    </tr>\n",
       "    <tr>\n",
       "      <th>1</th>\n",
       "      <td>84217</td>\n",
       "      <td>Yerevan, Center, Sayat-Nova Ave</td>\n",
       "      <td>Yerevan</td>\n",
       "      <td>Center</td>\n",
       "      <td>Sayat-Nova Ave</td>\n",
       "      <td>950</td>\n",
       "      <td>3036.0</td>\n",
       "      <td>103</td>\n",
       "      <td>3</td>\n",
       "      <td>7</td>\n",
       "      <td>...</td>\n",
       "      <td>Newly repaired</td>\n",
       "      <td>10.09.2019</td>\n",
       "      <td>06.05.2020</td>\n",
       "      <td>08.05.2022</td>\n",
       "      <td>40.182126</td>\n",
       "      <td>44.512085</td>\n",
       "      <td>30, Եզնիկ Կողբացու փողոց, Կենտրոն, Երևան, 0002...</td>\n",
       "      <td>['Heating', 'Internet', 'Hot water', 'Sewerage...</td>\n",
       "      <td>['Furniture', 'Equipment', 'Euro windows', 'Ir...</td>\n",
       "      <td>https://myrealty.am/en/3-bedroom/apartment-for...</td>\n",
       "    </tr>\n",
       "    <tr>\n",
       "      <th>2</th>\n",
       "      <td>84181</td>\n",
       "      <td>Yerevan, Center, Amiryan St</td>\n",
       "      <td>Yerevan</td>\n",
       "      <td>Center</td>\n",
       "      <td>Amiryan St</td>\n",
       "      <td>890</td>\n",
       "      <td>2694.0</td>\n",
       "      <td>75</td>\n",
       "      <td>3</td>\n",
       "      <td>9</td>\n",
       "      <td>...</td>\n",
       "      <td>Newly repaired</td>\n",
       "      <td>10.09.2019</td>\n",
       "      <td>14.12.2019</td>\n",
       "      <td>08.05.2022</td>\n",
       "      <td>40.180622</td>\n",
       "      <td>44.508178</td>\n",
       "      <td>HAF-HAF, 13/45, Ամիրյան փողոց, Կենտրոն, Երևան,...</td>\n",
       "      <td>['Heating', 'Internet', 'Hot water', 'Electric...</td>\n",
       "      <td>['Furniture', 'Equipment', 'Euro windows', 'Ti...</td>\n",
       "      <td>https://myrealty.am/en/3-bedroom/apartment-for...</td>\n",
       "    </tr>\n",
       "    <tr>\n",
       "      <th>3</th>\n",
       "      <td>84177</td>\n",
       "      <td>Yerevan, Center, Sayat-Nova Ave</td>\n",
       "      <td>Yerevan</td>\n",
       "      <td>Center</td>\n",
       "      <td>Sayat-Nova Ave</td>\n",
       "      <td>950</td>\n",
       "      <td>2653.0</td>\n",
       "      <td>103</td>\n",
       "      <td>3</td>\n",
       "      <td>7</td>\n",
       "      <td>...</td>\n",
       "      <td>Newly repaired</td>\n",
       "      <td>10.09.2019</td>\n",
       "      <td>14.12.2019</td>\n",
       "      <td>08.05.2022</td>\n",
       "      <td>40.183568</td>\n",
       "      <td>44.520496</td>\n",
       "      <td>21, Սայաթ-Նովայի պողոտա, Կենտրոն, Երևան, 0001,...</td>\n",
       "      <td>['Heating', 'Internet', 'Hot water', 'Electric...</td>\n",
       "      <td>['Furniture', 'Equipment', 'Euro windows', 'Ti...</td>\n",
       "      <td>https://myrealty.am/en/3-bedroom/apartment-for...</td>\n",
       "    </tr>\n",
       "    <tr>\n",
       "      <th>4</th>\n",
       "      <td>84167</td>\n",
       "      <td>Yerevan, Arabkir, Baghramyan av(Arabkir)</td>\n",
       "      <td>Yerevan</td>\n",
       "      <td>Arabkir</td>\n",
       "      <td>Baghramyan av(Arabkir)</td>\n",
       "      <td>1300</td>\n",
       "      <td>3009.0</td>\n",
       "      <td>120</td>\n",
       "      <td>3</td>\n",
       "      <td>4</td>\n",
       "      <td>...</td>\n",
       "      <td>Newly repaired</td>\n",
       "      <td>10.09.2019</td>\n",
       "      <td>09.07.2020</td>\n",
       "      <td>08.05.2022</td>\n",
       "      <td>40.193848</td>\n",
       "      <td>44.497105</td>\n",
       "      <td>59, Մարշալ Բաղրամյան պողոտա, Արաբկիր, Երևան, 0...</td>\n",
       "      <td>['Heating', 'Internet', 'Hot water', 'Sewerage...</td>\n",
       "      <td>['Furniture', 'Equipment', 'Euro windows', 'Ir...</td>\n",
       "      <td>https://myrealty.am/en/3-bedroom/apartment-for...</td>\n",
       "    </tr>\n",
       "  </tbody>\n",
       "</table>\n",
       "<p>5 rows × 24 columns</p>\n",
       "</div>"
      ],
      "text/plain": [
       "      ID                                  Location   Region  District  \\\n",
       "0  84218                Yerevan, Center, Saryan St  Yerevan    Center   \n",
       "1  84217           Yerevan, Center, Sayat-Nova Ave  Yerevan    Center   \n",
       "2  84181               Yerevan, Center, Amiryan St  Yerevan    Center   \n",
       "3  84177           Yerevan, Center, Sayat-Nova Ave  Yerevan    Center   \n",
       "4  84167  Yerevan, Arabkir, Baghramyan av(Arabkir)  Yerevan   Arabkir   \n",
       "\n",
       "                    Street Price   Views  Area  Room  Floor  ...  \\\n",
       "0                Saryan St   600  2929.0    75     2      9  ...   \n",
       "1           Sayat-Nova Ave   950  3036.0   103     3      7  ...   \n",
       "2               Amiryan St   890  2694.0    75     3      9  ...   \n",
       "3           Sayat-Nova Ave   950  2653.0   103     3      7  ...   \n",
       "4   Baghramyan av(Arabkir)  1300  3009.0   120     3      4  ...   \n",
       "\n",
       "        Condition  Date Added Date Edited  Date Scraped   Latitude  Longitude  \\\n",
       "0            Good  10.09.2019  14.12.2019    08.05.2022  40.182390  44.505119   \n",
       "1  Newly repaired  10.09.2019  06.05.2020    08.05.2022  40.182126  44.512085   \n",
       "2  Newly repaired  10.09.2019  14.12.2019    08.05.2022  40.180622  44.508178   \n",
       "3  Newly repaired  10.09.2019  14.12.2019    08.05.2022  40.183568  44.520496   \n",
       "4  Newly repaired  10.09.2019  09.07.2020    08.05.2022  40.193848  44.497105   \n",
       "\n",
       "                                             Address  \\\n",
       "0  27, Սարյանի փողոց, Կենտրոն, Երևան, 0002, Հայաստան   \n",
       "1  30, Եզնիկ Կողբացու փողոց, Կենտրոն, Երևան, 0002...   \n",
       "2  HAF-HAF, 13/45, Ամիրյան փողոց, Կենտրոն, Երևան,...   \n",
       "3  21, Սայաթ-Նովայի պողոտա, Կենտրոն, Երևան, 0001,...   \n",
       "4  59, Մարշալ Բաղրամյան պողոտա, Արաբկիր, Երևան, 0...   \n",
       "\n",
       "                                          Facilities  \\\n",
       "0  ['Heating', 'Internet', 'Hot water', 'Electric...   \n",
       "1  ['Heating', 'Internet', 'Hot water', 'Sewerage...   \n",
       "2  ['Heating', 'Internet', 'Hot water', 'Electric...   \n",
       "3  ['Heating', 'Internet', 'Hot water', 'Electric...   \n",
       "4  ['Heating', 'Internet', 'Hot water', 'Sewerage...   \n",
       "\n",
       "                                     Additional Info  \\\n",
       "0  ['Furniture', 'Equipment', 'Euro windows', 'Ti...   \n",
       "1  ['Furniture', 'Equipment', 'Euro windows', 'Ir...   \n",
       "2  ['Furniture', 'Equipment', 'Euro windows', 'Ti...   \n",
       "3  ['Furniture', 'Equipment', 'Euro windows', 'Ti...   \n",
       "4  ['Furniture', 'Equipment', 'Euro windows', 'Ir...   \n",
       "\n",
       "                                                 url  \n",
       "0  https://myrealty.am/en/2-bedroom/apartment-for...  \n",
       "1  https://myrealty.am/en/3-bedroom/apartment-for...  \n",
       "2  https://myrealty.am/en/3-bedroom/apartment-for...  \n",
       "3  https://myrealty.am/en/3-bedroom/apartment-for...  \n",
       "4  https://myrealty.am/en/3-bedroom/apartment-for...  \n",
       "\n",
       "[5 rows x 24 columns]"
      ]
     },
     "execution_count": 27,
     "metadata": {},
     "output_type": "execute_result"
    }
   ],
   "source": [
    "import pandas as pd\n",
    "import numpy as np\n",
    "import random\n",
    "\n",
    "df = pd.read_csv('apt.rent.0805.csv')\n",
    "df.head()"
   ]
  },
  {
   "cell_type": "code",
   "execution_count": 2,
   "id": "50db82ab",
   "metadata": {},
   "outputs": [
    {
     "data": {
      "text/plain": [
       "array(['600', '950', '890', '1300', '421', '3000', '1000', '400', '500',\n",
       "       '550', '700', '330', '2500', '390', '450', '842', '463', '650',\n",
       "       '1500', '316', '337', '520', '473', '800', '900', '1200', '2000',\n",
       "       '1250', '850', '368', '420', '2300', '2400', '1400', '1900',\n",
       "       '1600', '412', '2700', '780', '736', '350', '750', '5200', '1700',\n",
       "       '432', '1100', '526', '2200', '1800', '300', '360', '2800', '430',\n",
       "       '505', '358', '5000', '3500', '1850', '1894', '288', '618', '580',\n",
       "       '670', '515', '370', '631', '980', '4000', '525', '320', '820',\n",
       "       '530', '379', '2600', '930', '309', '480', '442', '381', '457',\n",
       "       '380', '144', '572', '324', '540', '440', '415', 'on request',\n",
       "       '304', '609', '223', '310', '720', '570', '1450', '690', '298',\n",
       "       '947', '453', '990', '4500', '630', '329', '484', '699', '508',\n",
       "       '1066', '730', '2345', '2900', '1595', '490', '884', '870', '2100',\n",
       "       '721', '250', '476', '660', '590', '1350', '319', '290000', '5076',\n",
       "       '467', '1150', '556', '934', '3800', '914', '250000', '494',\n",
       "       '3600', '1366', '300000', '3100', '340', '830', '799', '470',\n",
       "       '510', '460', '920', '680', '547', '589', '711', '528', '446',\n",
       "       '406', '357', '620', '1950', '345', '284', '1015', '210', '725',\n",
       "       '1030', '772', '326', '610', '431', '410', '953', '857', '667',\n",
       "       '599', '507', '731', '1550', '141000', '940', '130000', '48000',\n",
       "       '391', '5500', '812', '1650', '1520', '659', '1157', '352', '325',\n",
       "       '1515', '792', '1052', '1262', '3300', '342', '419'], dtype=object)"
      ]
     },
     "execution_count": 2,
     "metadata": {},
     "output_type": "execute_result"
    }
   ],
   "source": [
    "df.Price.unique()"
   ]
  },
  {
   "cell_type": "code",
   "execution_count": 28,
   "id": "ec7424b7",
   "metadata": {},
   "outputs": [
    {
     "data": {
      "text/html": [
       "<div>\n",
       "<style scoped>\n",
       "    .dataframe tbody tr th:only-of-type {\n",
       "        vertical-align: middle;\n",
       "    }\n",
       "\n",
       "    .dataframe tbody tr th {\n",
       "        vertical-align: top;\n",
       "    }\n",
       "\n",
       "    .dataframe thead th {\n",
       "        text-align: right;\n",
       "    }\n",
       "</style>\n",
       "<table border=\"1\" class=\"dataframe\">\n",
       "  <thead>\n",
       "    <tr style=\"text-align: right;\">\n",
       "      <th></th>\n",
       "      <th>ID</th>\n",
       "      <th>Location</th>\n",
       "      <th>Region</th>\n",
       "      <th>District</th>\n",
       "      <th>Street</th>\n",
       "      <th>Price</th>\n",
       "      <th>Views</th>\n",
       "      <th>Area</th>\n",
       "      <th>Room</th>\n",
       "      <th>Floor</th>\n",
       "      <th>...</th>\n",
       "      <th>Facilities</th>\n",
       "      <th>Additional Info</th>\n",
       "      <th>url</th>\n",
       "      <th>on_request</th>\n",
       "      <th>Price/sqm</th>\n",
       "      <th>Error</th>\n",
       "      <th>Floors</th>\n",
       "      <th>Listing_type</th>\n",
       "      <th>Property_type</th>\n",
       "      <th>Platform_name</th>\n",
       "    </tr>\n",
       "  </thead>\n",
       "  <tbody>\n",
       "    <tr>\n",
       "      <th>0</th>\n",
       "      <td>84218</td>\n",
       "      <td>Yerevan, Center, Saryan St</td>\n",
       "      <td>Yerevan</td>\n",
       "      <td>Center</td>\n",
       "      <td>Saryan St</td>\n",
       "      <td>600</td>\n",
       "      <td>2929.0</td>\n",
       "      <td>75</td>\n",
       "      <td>2</td>\n",
       "      <td>9</td>\n",
       "      <td>...</td>\n",
       "      <td>['Heating', 'Internet', 'Hot water', 'Electric...</td>\n",
       "      <td>['Furniture', 'Equipment', 'Euro windows', 'Ti...</td>\n",
       "      <td>https://myrealty.am/en/2-bedroom/apartment-for...</td>\n",
       "      <td>0</td>\n",
       "      <td>NaN</td>\n",
       "      <td>0</td>\n",
       "      <td>NaN</td>\n",
       "      <td>for rent</td>\n",
       "      <td>apartment</td>\n",
       "      <td>bars.am</td>\n",
       "    </tr>\n",
       "    <tr>\n",
       "      <th>1</th>\n",
       "      <td>84217</td>\n",
       "      <td>Yerevan, Center, Sayat-Nova Ave</td>\n",
       "      <td>Yerevan</td>\n",
       "      <td>Center</td>\n",
       "      <td>Sayat-Nova Ave</td>\n",
       "      <td>950</td>\n",
       "      <td>3036.0</td>\n",
       "      <td>103</td>\n",
       "      <td>3</td>\n",
       "      <td>7</td>\n",
       "      <td>...</td>\n",
       "      <td>['Heating', 'Internet', 'Hot water', 'Sewerage...</td>\n",
       "      <td>['Furniture', 'Equipment', 'Euro windows', 'Ir...</td>\n",
       "      <td>https://myrealty.am/en/3-bedroom/apartment-for...</td>\n",
       "      <td>0</td>\n",
       "      <td>NaN</td>\n",
       "      <td>0</td>\n",
       "      <td>NaN</td>\n",
       "      <td>for rent</td>\n",
       "      <td>apartment</td>\n",
       "      <td>myrealty.am</td>\n",
       "    </tr>\n",
       "    <tr>\n",
       "      <th>2</th>\n",
       "      <td>84181</td>\n",
       "      <td>Yerevan, Center, Amiryan St</td>\n",
       "      <td>Yerevan</td>\n",
       "      <td>Center</td>\n",
       "      <td>Amiryan St</td>\n",
       "      <td>890</td>\n",
       "      <td>2694.0</td>\n",
       "      <td>75</td>\n",
       "      <td>3</td>\n",
       "      <td>9</td>\n",
       "      <td>...</td>\n",
       "      <td>['Heating', 'Internet', 'Hot water', 'Electric...</td>\n",
       "      <td>['Furniture', 'Equipment', 'Euro windows', 'Ti...</td>\n",
       "      <td>https://myrealty.am/en/3-bedroom/apartment-for...</td>\n",
       "      <td>0</td>\n",
       "      <td>NaN</td>\n",
       "      <td>0</td>\n",
       "      <td>NaN</td>\n",
       "      <td>for rent</td>\n",
       "      <td>apartment</td>\n",
       "      <td>bars.am</td>\n",
       "    </tr>\n",
       "    <tr>\n",
       "      <th>3</th>\n",
       "      <td>84177</td>\n",
       "      <td>Yerevan, Center, Sayat-Nova Ave</td>\n",
       "      <td>Yerevan</td>\n",
       "      <td>Center</td>\n",
       "      <td>Sayat-Nova Ave</td>\n",
       "      <td>950</td>\n",
       "      <td>2653.0</td>\n",
       "      <td>103</td>\n",
       "      <td>3</td>\n",
       "      <td>7</td>\n",
       "      <td>...</td>\n",
       "      <td>['Heating', 'Internet', 'Hot water', 'Electric...</td>\n",
       "      <td>['Furniture', 'Equipment', 'Euro windows', 'Ti...</td>\n",
       "      <td>https://myrealty.am/en/3-bedroom/apartment-for...</td>\n",
       "      <td>0</td>\n",
       "      <td>NaN</td>\n",
       "      <td>0</td>\n",
       "      <td>NaN</td>\n",
       "      <td>for rent</td>\n",
       "      <td>apartment</td>\n",
       "      <td>myrealty.am</td>\n",
       "    </tr>\n",
       "    <tr>\n",
       "      <th>4</th>\n",
       "      <td>84167</td>\n",
       "      <td>Yerevan, Arabkir, Baghramyan av(Arabkir)</td>\n",
       "      <td>Yerevan</td>\n",
       "      <td>Arabkir</td>\n",
       "      <td>Baghramyan av(Arabkir)</td>\n",
       "      <td>1300</td>\n",
       "      <td>3009.0</td>\n",
       "      <td>120</td>\n",
       "      <td>3</td>\n",
       "      <td>4</td>\n",
       "      <td>...</td>\n",
       "      <td>['Heating', 'Internet', 'Hot water', 'Sewerage...</td>\n",
       "      <td>['Furniture', 'Equipment', 'Euro windows', 'Ir...</td>\n",
       "      <td>https://myrealty.am/en/3-bedroom/apartment-for...</td>\n",
       "      <td>0</td>\n",
       "      <td>NaN</td>\n",
       "      <td>0</td>\n",
       "      <td>NaN</td>\n",
       "      <td>for rent</td>\n",
       "      <td>apartment</td>\n",
       "      <td>myrealty.am</td>\n",
       "    </tr>\n",
       "  </tbody>\n",
       "</table>\n",
       "<p>5 rows × 31 columns</p>\n",
       "</div>"
      ],
      "text/plain": [
       "      ID                                  Location   Region  District  \\\n",
       "0  84218                Yerevan, Center, Saryan St  Yerevan    Center   \n",
       "1  84217           Yerevan, Center, Sayat-Nova Ave  Yerevan    Center   \n",
       "2  84181               Yerevan, Center, Amiryan St  Yerevan    Center   \n",
       "3  84177           Yerevan, Center, Sayat-Nova Ave  Yerevan    Center   \n",
       "4  84167  Yerevan, Arabkir, Baghramyan av(Arabkir)  Yerevan   Arabkir   \n",
       "\n",
       "                    Street Price   Views  Area  Room  Floor  ...  \\\n",
       "0                Saryan St   600  2929.0    75     2      9  ...   \n",
       "1           Sayat-Nova Ave   950  3036.0   103     3      7  ...   \n",
       "2               Amiryan St   890  2694.0    75     3      9  ...   \n",
       "3           Sayat-Nova Ave   950  2653.0   103     3      7  ...   \n",
       "4   Baghramyan av(Arabkir)  1300  3009.0   120     3      4  ...   \n",
       "\n",
       "                                          Facilities  \\\n",
       "0  ['Heating', 'Internet', 'Hot water', 'Electric...   \n",
       "1  ['Heating', 'Internet', 'Hot water', 'Sewerage...   \n",
       "2  ['Heating', 'Internet', 'Hot water', 'Electric...   \n",
       "3  ['Heating', 'Internet', 'Hot water', 'Electric...   \n",
       "4  ['Heating', 'Internet', 'Hot water', 'Sewerage...   \n",
       "\n",
       "                                     Additional Info  \\\n",
       "0  ['Furniture', 'Equipment', 'Euro windows', 'Ti...   \n",
       "1  ['Furniture', 'Equipment', 'Euro windows', 'Ir...   \n",
       "2  ['Furniture', 'Equipment', 'Euro windows', 'Ti...   \n",
       "3  ['Furniture', 'Equipment', 'Euro windows', 'Ti...   \n",
       "4  ['Furniture', 'Equipment', 'Euro windows', 'Ir...   \n",
       "\n",
       "                                                 url  on_request Price/sqm  \\\n",
       "0  https://myrealty.am/en/2-bedroom/apartment-for...           0       NaN   \n",
       "1  https://myrealty.am/en/3-bedroom/apartment-for...           0       NaN   \n",
       "2  https://myrealty.am/en/3-bedroom/apartment-for...           0       NaN   \n",
       "3  https://myrealty.am/en/3-bedroom/apartment-for...           0       NaN   \n",
       "4  https://myrealty.am/en/3-bedroom/apartment-for...           0       NaN   \n",
       "\n",
       "  Error Floors Listing_type  Property_type  Platform_name  \n",
       "0     0    NaN     for rent      apartment        bars.am  \n",
       "1     0    NaN     for rent      apartment    myrealty.am  \n",
       "2     0    NaN     for rent      apartment        bars.am  \n",
       "3     0    NaN     for rent      apartment    myrealty.am  \n",
       "4     0    NaN     for rent      apartment    myrealty.am  \n",
       "\n",
       "[5 rows x 31 columns]"
      ]
     },
     "execution_count": 28,
     "metadata": {},
     "output_type": "execute_result"
    }
   ],
   "source": [
    "df['on_request'] = np.where(df['Price']== 'on request', 1, 0)\n",
    "df.loc[df['Price'] == 'on request','Price'] = np.nan\n",
    "df['Price/sqm'] = np.nan\n",
    "df['Error'] = 0\n",
    "df['Floors'] = np.nan\n",
    "df['Listing_type'] = 'for rent'\n",
    "df['Property_type'] = 'apartment'\n",
    "df['Platform_name'] = pd.Series(random.choices(['myrealty.am','bars.am'],\n",
    "                                                     weights=[1, 1], k=len(df)))\n",
    "df.head()"
   ]
  },
  {
   "cell_type": "code",
   "execution_count": 29,
   "id": "79b6e954",
   "metadata": {},
   "outputs": [
    {
     "data": {
      "text/plain": [
       "32360.000000021955"
      ]
     },
     "execution_count": 29,
     "metadata": {},
     "output_type": "execute_result"
    }
   ],
   "source": [
    "df['Price'] = df['Price'].apply(lambda x: float(x))\n",
    "df.Price.quantile(0.999) #for threshold"
   ]
  },
  {
   "cell_type": "code",
   "execution_count": 30,
   "id": "f08524f7",
   "metadata": {},
   "outputs": [],
   "source": [
    "df.loc[df['Price'] > 32360, 'Error'] = 1"
   ]
  },
  {
   "cell_type": "code",
   "execution_count": 6,
   "id": "f63cdfe1",
   "metadata": {},
   "outputs": [
    {
     "data": {
      "text/plain": [
       "array([  75,  103,  120,   74,  130,   93,   55,   60,   65,   90,   48,\n",
       "         78,   32,  100,   35,   85,  131,   67,  200,  210,   68,   57,\n",
       "         53,   73,  180,   50,   41,   91,  170,  107,   80,   45,  105,\n",
       "         83,  121,   95,   46,   98,   86,   43,   70,   97,   52,   92,\n",
       "         37,   47,   72,  110,  199,   30,  185,  235,   96,   62,   64,\n",
       "        250,  143,  150,  135,   89,   54,   40,   76,   58,  175,   44,\n",
       "        140,   82,  160,  124,   81,   63,  125,  133,  309,   42,  270,\n",
       "        145,  280,  240,   39,   84,  101,  117,   49,  165,  114,  163,\n",
       "         77,  230,  207,   61,   94,  136,  182,  113,  108,   56,  171,\n",
       "        154,  138,   79,  157,   66,  122,   36,  128,  159,  142,   51,\n",
       "         59,  137,  126,   71,  115,  106,  300,   88,  169,  118,   31,\n",
       "        127,  148,  134,  116,  102,  220,  215,   87,  111,  162,  129,\n",
       "         38,  219,   33,  260,  151,   34,  350,  112,  360,  164,  190,\n",
       "        191,  181,   99,  158,  132,   69,  104,  172,  900,  600,  153,\n",
       "        141,  109,  147,  291,  156,  178,  332,  290,  238,  700,  202,\n",
       "        225,  310,  155,  144,  168,  216,  902,  192, 1024,  262,  500,\n",
       "        167,  650,  188,  177,  400,  340,  166,  161,  119,  229,  276,\n",
       "        265,  203,   13, 1000,  152,   18,  331])"
      ]
     },
     "execution_count": 6,
     "metadata": {},
     "output_type": "execute_result"
    }
   ],
   "source": [
    "df.Area.unique()"
   ]
  },
  {
   "cell_type": "code",
   "execution_count": 31,
   "id": "452d9a93",
   "metadata": {},
   "outputs": [],
   "source": [
    "df.loc[df['Area'] < 20 , 'Error'] = 1"
   ]
  },
  {
   "cell_type": "code",
   "execution_count": 8,
   "id": "88face17",
   "metadata": {},
   "outputs": [
    {
     "data": {
      "text/plain": [
       "count     5394.000000\n",
       "mean      3441.154060\n",
       "std       2353.303471\n",
       "min         31.000000\n",
       "25%       2106.000000\n",
       "50%       2970.000000\n",
       "75%       4973.250000\n",
       "max      59564.000000\n",
       "Name: Views, dtype: float64"
      ]
     },
     "execution_count": 8,
     "metadata": {},
     "output_type": "execute_result"
    }
   ],
   "source": [
    "df.Views.describe()"
   ]
  },
  {
   "cell_type": "code",
   "execution_count": 9,
   "id": "06563503",
   "metadata": {},
   "outputs": [
    {
     "data": {
      "text/plain": [
       "array([2, 3, 4, 1, 5, 6, 7])"
      ]
     },
     "execution_count": 9,
     "metadata": {},
     "output_type": "execute_result"
    }
   ],
   "source": [
    "df.Room.unique()"
   ]
  },
  {
   "cell_type": "code",
   "execution_count": 10,
   "id": "727dd344",
   "metadata": {},
   "outputs": [
    {
     "data": {
      "text/plain": [
       "array([ 9,  7,  4,  3,  2,  8, 11, 12,  5,  6,  1, 17, 13, 14, 10, 15, 16,\n",
       "       20, 18,  0, 19])"
      ]
     },
     "execution_count": 10,
     "metadata": {},
     "output_type": "execute_result"
    }
   ],
   "source": [
    "df.Floor.unique()"
   ]
  },
  {
   "cell_type": "code",
   "execution_count": 32,
   "id": "9776d813",
   "metadata": {},
   "outputs": [],
   "source": [
    "df.loc[df['Floor'] == 0, 'Error'] = 1"
   ]
  },
  {
   "cell_type": "code",
   "execution_count": 12,
   "id": "1a914496",
   "metadata": {},
   "outputs": [
    {
     "data": {
      "text/plain": [
       "array([10, 11, 15, 16,  6,  5, 14, 12,  9,  8,  3, 17,  4, 13, 23, 18, 21,\n",
       "       22, 20,  7, 19,  2,  1, 24, 25])"
      ]
     },
     "execution_count": 12,
     "metadata": {},
     "output_type": "execute_result"
    }
   ],
   "source": [
    "df.Storeys.unique()"
   ]
  },
  {
   "cell_type": "code",
   "execution_count": 33,
   "id": "3325c2aa",
   "metadata": {},
   "outputs": [],
   "source": [
    "df.loc[df['Storeys'] == 1, 'Error' ] = 1"
   ]
  },
  {
   "cell_type": "code",
   "execution_count": 14,
   "id": "b94363ec",
   "metadata": {},
   "outputs": [
    {
     "data": {
      "text/plain": [
       "array([1, 2, 3, 5, 4])"
      ]
     },
     "execution_count": 14,
     "metadata": {},
     "output_type": "execute_result"
    }
   ],
   "source": [
    "df.Bathrooms.unique()"
   ]
  },
  {
   "cell_type": "code",
   "execution_count": 15,
   "id": "d4773bf4",
   "metadata": {},
   "outputs": [
    {
     "data": {
      "text/plain": [
       "array(['Panel', 'Monolit', 'Stone', 'Other'], dtype=object)"
      ]
     },
     "execution_count": 15,
     "metadata": {},
     "output_type": "execute_result"
    }
   ],
   "source": [
    "df.BuildType.unique()"
   ]
  },
  {
   "cell_type": "code",
   "execution_count": 16,
   "id": "0adcc52f",
   "metadata": {},
   "outputs": [
    {
     "data": {
      "text/plain": [
       "array([2.8, 3.2, 3. , 2.6, 3.8, 0. , 5. ])"
      ]
     },
     "execution_count": 16,
     "metadata": {},
     "output_type": "execute_result"
    }
   ],
   "source": [
    "df.CeilingHeight.unique()"
   ]
  },
  {
   "cell_type": "code",
   "execution_count": 34,
   "id": "c7d26ffc",
   "metadata": {},
   "outputs": [],
   "source": [
    "df.loc[df['CeilingHeight'] == 0 , 'Error' ] = 1"
   ]
  },
  {
   "cell_type": "code",
   "execution_count": 18,
   "id": "e6f5ef90",
   "metadata": {},
   "outputs": [
    {
     "data": {
      "text/plain": [
       "array(['Good', 'Newly repaired'], dtype=object)"
      ]
     },
     "execution_count": 18,
     "metadata": {},
     "output_type": "execute_result"
    }
   ],
   "source": [
    "df.Condition.unique()"
   ]
  },
  {
   "cell_type": "code",
   "execution_count": 19,
   "id": "2b74abb4",
   "metadata": {},
   "outputs": [
    {
     "data": {
      "text/plain": [
       "count    5395.000000\n",
       "mean       40.188879\n",
       "std         0.109069\n",
       "min        38.242697\n",
       "25%        40.179601\n",
       "50%        40.183333\n",
       "75%        40.189950\n",
       "max        44.521235\n",
       "Name: Latitude, dtype: float64"
      ]
     },
     "execution_count": 19,
     "metadata": {},
     "output_type": "execute_result"
    }
   ],
   "source": [
    "df.Latitude.describe()"
   ]
  },
  {
   "cell_type": "code",
   "execution_count": 20,
   "id": "312049a4",
   "metadata": {},
   "outputs": [
    {
     "data": {
      "text/plain": [
       "count    5395.000000\n",
       "mean       44.441933\n",
       "std         2.889293\n",
       "min       -85.766224\n",
       "25%        44.507282\n",
       "50%        44.513076\n",
       "75%        44.517895\n",
       "max        46.403877\n",
       "Name: Longitude, dtype: float64"
      ]
     },
     "execution_count": 20,
     "metadata": {},
     "output_type": "execute_result"
    }
   ],
   "source": [
    "df.Longitude.describe()"
   ]
  },
  {
   "cell_type": "code",
   "execution_count": 35,
   "id": "9e130d6c",
   "metadata": {},
   "outputs": [],
   "source": [
    "df.loc[df.Longitude < 40 , 'Error' ] = 1"
   ]
  },
  {
   "cell_type": "code",
   "execution_count": 36,
   "id": "06a24213",
   "metadata": {},
   "outputs": [
    {
     "data": {
      "text/html": [
       "<div>\n",
       "<style scoped>\n",
       "    .dataframe tbody tr th:only-of-type {\n",
       "        vertical-align: middle;\n",
       "    }\n",
       "\n",
       "    .dataframe tbody tr th {\n",
       "        vertical-align: top;\n",
       "    }\n",
       "\n",
       "    .dataframe thead th {\n",
       "        text-align: right;\n",
       "    }\n",
       "</style>\n",
       "<table border=\"1\" class=\"dataframe\">\n",
       "  <thead>\n",
       "    <tr style=\"text-align: right;\">\n",
       "      <th></th>\n",
       "      <th>ID</th>\n",
       "      <th>Location</th>\n",
       "      <th>Region</th>\n",
       "      <th>District</th>\n",
       "      <th>Street</th>\n",
       "      <th>Price</th>\n",
       "      <th>Views</th>\n",
       "      <th>Area</th>\n",
       "      <th>Room</th>\n",
       "      <th>Floor</th>\n",
       "      <th>...</th>\n",
       "      <th>Parquet</th>\n",
       "      <th>Playground</th>\n",
       "      <th>Roadside</th>\n",
       "      <th>Sauna</th>\n",
       "      <th>Securitysystem</th>\n",
       "      <th>Storageroom</th>\n",
       "      <th>Sunny</th>\n",
       "      <th>Swimmingpool</th>\n",
       "      <th>Tile</th>\n",
       "      <th>View</th>\n",
       "    </tr>\n",
       "  </thead>\n",
       "  <tbody>\n",
       "    <tr>\n",
       "      <th>0</th>\n",
       "      <td>84218</td>\n",
       "      <td>Yerevan, Center, Saryan St</td>\n",
       "      <td>Yerevan</td>\n",
       "      <td>Center</td>\n",
       "      <td>Saryan St</td>\n",
       "      <td>600.0</td>\n",
       "      <td>2929.0</td>\n",
       "      <td>75</td>\n",
       "      <td>2</td>\n",
       "      <td>9</td>\n",
       "      <td>...</td>\n",
       "      <td>0</td>\n",
       "      <td>1</td>\n",
       "      <td>1</td>\n",
       "      <td>0</td>\n",
       "      <td>0</td>\n",
       "      <td>0</td>\n",
       "      <td>1</td>\n",
       "      <td>0</td>\n",
       "      <td>1</td>\n",
       "      <td>1</td>\n",
       "    </tr>\n",
       "    <tr>\n",
       "      <th>1</th>\n",
       "      <td>84217</td>\n",
       "      <td>Yerevan, Center, Sayat-Nova Ave</td>\n",
       "      <td>Yerevan</td>\n",
       "      <td>Center</td>\n",
       "      <td>Sayat-Nova Ave</td>\n",
       "      <td>950.0</td>\n",
       "      <td>3036.0</td>\n",
       "      <td>103</td>\n",
       "      <td>3</td>\n",
       "      <td>7</td>\n",
       "      <td>...</td>\n",
       "      <td>1</td>\n",
       "      <td>1</td>\n",
       "      <td>1</td>\n",
       "      <td>0</td>\n",
       "      <td>1</td>\n",
       "      <td>0</td>\n",
       "      <td>1</td>\n",
       "      <td>0</td>\n",
       "      <td>1</td>\n",
       "      <td>0</td>\n",
       "    </tr>\n",
       "    <tr>\n",
       "      <th>2</th>\n",
       "      <td>84181</td>\n",
       "      <td>Yerevan, Center, Amiryan St</td>\n",
       "      <td>Yerevan</td>\n",
       "      <td>Center</td>\n",
       "      <td>Amiryan St</td>\n",
       "      <td>890.0</td>\n",
       "      <td>2694.0</td>\n",
       "      <td>75</td>\n",
       "      <td>3</td>\n",
       "      <td>9</td>\n",
       "      <td>...</td>\n",
       "      <td>0</td>\n",
       "      <td>0</td>\n",
       "      <td>0</td>\n",
       "      <td>0</td>\n",
       "      <td>0</td>\n",
       "      <td>0</td>\n",
       "      <td>1</td>\n",
       "      <td>0</td>\n",
       "      <td>1</td>\n",
       "      <td>1</td>\n",
       "    </tr>\n",
       "    <tr>\n",
       "      <th>3</th>\n",
       "      <td>84177</td>\n",
       "      <td>Yerevan, Center, Sayat-Nova Ave</td>\n",
       "      <td>Yerevan</td>\n",
       "      <td>Center</td>\n",
       "      <td>Sayat-Nova Ave</td>\n",
       "      <td>950.0</td>\n",
       "      <td>2653.0</td>\n",
       "      <td>103</td>\n",
       "      <td>3</td>\n",
       "      <td>7</td>\n",
       "      <td>...</td>\n",
       "      <td>0</td>\n",
       "      <td>1</td>\n",
       "      <td>1</td>\n",
       "      <td>0</td>\n",
       "      <td>1</td>\n",
       "      <td>0</td>\n",
       "      <td>1</td>\n",
       "      <td>0</td>\n",
       "      <td>1</td>\n",
       "      <td>1</td>\n",
       "    </tr>\n",
       "    <tr>\n",
       "      <th>4</th>\n",
       "      <td>84167</td>\n",
       "      <td>Yerevan, Arabkir, Baghramyan av(Arabkir)</td>\n",
       "      <td>Yerevan</td>\n",
       "      <td>Arabkir</td>\n",
       "      <td>Baghramyan av(Arabkir)</td>\n",
       "      <td>1300.0</td>\n",
       "      <td>3009.0</td>\n",
       "      <td>120</td>\n",
       "      <td>3</td>\n",
       "      <td>4</td>\n",
       "      <td>...</td>\n",
       "      <td>0</td>\n",
       "      <td>1</td>\n",
       "      <td>1</td>\n",
       "      <td>0</td>\n",
       "      <td>1</td>\n",
       "      <td>0</td>\n",
       "      <td>1</td>\n",
       "      <td>0</td>\n",
       "      <td>1</td>\n",
       "      <td>1</td>\n",
       "    </tr>\n",
       "  </tbody>\n",
       "</table>\n",
       "<p>5 rows × 78 columns</p>\n",
       "</div>"
      ],
      "text/plain": [
       "      ID                                  Location   Region  District  \\\n",
       "0  84218                Yerevan, Center, Saryan St  Yerevan    Center   \n",
       "1  84217           Yerevan, Center, Sayat-Nova Ave  Yerevan    Center   \n",
       "2  84181               Yerevan, Center, Amiryan St  Yerevan    Center   \n",
       "3  84177           Yerevan, Center, Sayat-Nova Ave  Yerevan    Center   \n",
       "4  84167  Yerevan, Arabkir, Baghramyan av(Arabkir)  Yerevan   Arabkir   \n",
       "\n",
       "                    Street   Price   Views  Area  Room  Floor  ...  Parquet  \\\n",
       "0                Saryan St   600.0  2929.0    75     2      9  ...        0   \n",
       "1           Sayat-Nova Ave   950.0  3036.0   103     3      7  ...        1   \n",
       "2               Amiryan St   890.0  2694.0    75     3      9  ...        0   \n",
       "3           Sayat-Nova Ave   950.0  2653.0   103     3      7  ...        0   \n",
       "4   Baghramyan av(Arabkir)  1300.0  3009.0   120     3      4  ...        0   \n",
       "\n",
       "   Playground Roadside  Sauna Securitysystem Storageroom Sunny Swimmingpool  \\\n",
       "0           1        1      0              0           0     1            0   \n",
       "1           1        1      0              1           0     1            0   \n",
       "2           0        0      0              0           0     1            0   \n",
       "3           1        1      0              1           0     1            0   \n",
       "4           1        1      0              1           0     1            0   \n",
       "\n",
       "   Tile  View  \n",
       "0     1     1  \n",
       "1     1     0  \n",
       "2     1     1  \n",
       "3     1     1  \n",
       "4     1     1  \n",
       "\n",
       "[5 rows x 78 columns]"
      ]
     },
     "execution_count": 36,
     "metadata": {},
     "output_type": "execute_result"
    }
   ],
   "source": [
    "df['Facilities'] = df['Facilities'].apply(lambda x: x.replace(\"]\", \"\"))\n",
    "df['Facilities'] = df['Facilities'].apply(lambda x: x.replace(\"[\", \"\"))\n",
    "df['Additional Info'] = df['Additional Info'].apply(lambda x: x.replace(\"]\", \"\"))\n",
    "df['Additional Info'] = df['Additional Info'].apply(lambda x: x.replace(\"[\", \"\"))\n",
    "df['Additional Info'] = df['Additional Info'].apply(lambda x: x.replace(\"'\", \"\"))\n",
    "df['Facilities'] = df['Facilities'].apply(lambda x: x.replace(\"'\", \"\"))\n",
    "df['Additional Info'] = df['Additional Info'].apply(lambda x: x.replace(\" \", \"\"))\n",
    "df['Facilities'] = df['Facilities'].apply(lambda x: x.replace(\" \", \"\"))\n",
    "df1 = pd.DataFrame(df['Facilities'].str.get_dummies(sep=','))\n",
    "df2 = pd.DataFrame(df['Additional Info'].str.get_dummies(sep=','))\n",
    "info = pd.concat([df1, df2], axis=1)\n",
    "apt_rent = pd.concat([df, info], axis=1)\n",
    "apt_rent.head()"
   ]
  },
  {
   "cell_type": "code",
   "execution_count": 24,
   "id": "d4917ee1",
   "metadata": {},
   "outputs": [
    {
     "data": {
      "text/plain": [
       "Index(['ID', 'Location', 'Region', 'District', 'Street', 'Price', 'Views',\n",
       "       'Area', 'Room', 'Floor', 'Storeys', 'Bathrooms', 'BuildType',\n",
       "       'CeilingHeight', 'Condition', 'Date Added', 'Date Edited',\n",
       "       'Date Scraped', 'Latitude', 'Longitude', 'Address', 'Facilities',\n",
       "       'Additional Info', 'url', 'on_request', 'Price/sqm', 'Error',\n",
       "       'Air-conditioner', 'Canalization', 'Centralheating', 'Electricity',\n",
       "       'Gas', 'Heating', 'Hotwater', 'Internet', 'Irrigation', 'Sewerage',\n",
       "       'Water', 'water24/7', 'Attic', 'Balcony', 'Basement', 'Bilateral',\n",
       "       'Buildingexistence', 'Closetothebusstation', 'Elevator', 'Equipment',\n",
       "       'Eurowindows', 'Fence', 'Fireplace', 'Furniture', 'Garage', 'Gate',\n",
       "       'Grating', 'Gym', 'Heatedfloor', 'Heater', 'Highfirstfloor', 'Irondoor',\n",
       "       'Laminateflooring', 'Loggia', 'Openbalcony', 'Park', 'Parking',\n",
       "       'Parquet', 'Playground', 'Roadside', 'Sauna', 'Securitysystem',\n",
       "       'Storageroom', 'Sunny', 'Swimmingpool', 'Tile', 'View'],\n",
       "      dtype='object')"
      ]
     },
     "execution_count": 24,
     "metadata": {},
     "output_type": "execute_result"
    }
   ],
   "source": [
    "apt_rent.columns"
   ]
  },
  {
   "cell_type": "code",
   "execution_count": 37,
   "id": "f79fe713",
   "metadata": {},
   "outputs": [],
   "source": [
    "apt_rent.to_csv('apt_rent_filtered.csv', index = False)"
   ]
  }
 ],
 "metadata": {
  "kernelspec": {
   "display_name": "Python 3",
   "language": "python",
   "name": "python3"
  },
  "language_info": {
   "codemirror_mode": {
    "name": "ipython",
    "version": 3
   },
   "file_extension": ".py",
   "mimetype": "text/x-python",
   "name": "python",
   "nbconvert_exporter": "python",
   "pygments_lexer": "ipython3",
   "version": "3.8.8"
  }
 },
 "nbformat": 4,
 "nbformat_minor": 5
}
