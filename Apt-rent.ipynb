{
 "cells": [
  {
   "cell_type": "markdown",
   "id": "d0af8db3",
   "metadata": {
    "heading_collapsed": true
   },
   "source": [
    "# Packages"
   ]
  },
  {
   "cell_type": "code",
   "execution_count": 44,
   "id": "eb780020",
   "metadata": {
    "ExecuteTime": {
     "end_time": "2021-12-03T14:35:25.355672Z",
     "start_time": "2021-12-03T14:35:24.623875Z"
    },
    "hidden": true
   },
   "outputs": [],
   "source": [
    "from bs4 import BeautifulSoup\n",
    "import requests\n",
    "import pandas as pd\n",
    "from tqdm.notebook import tqdm\n",
    "from fake_useragent import UserAgent\n",
    "import re\n",
    "import urllib.parse\n",
    "import urllib.request\n",
    "import random\n",
    "import shutil\n",
    "import csv\n",
    "from csv import writer\n",
    "from pathlib import Path\n",
    "from urllib.request import urlopen\n",
    "import json\n",
    "from geopy.geocoders import GoogleV3, Nominatim\n",
    "from datetime import date"
   ]
  },
  {
   "cell_type": "code",
   "execution_count": 45,
   "id": "40c1b448",
   "metadata": {
    "ExecuteTime": {
     "end_time": "2021-12-03T14:35:33.713746Z",
     "start_time": "2021-12-03T14:35:33.691897Z"
    },
    "hidden": true
   },
   "outputs": [],
   "source": [
    "ua = UserAgent()"
   ]
  },
  {
   "cell_type": "markdown",
   "id": "0a54f060",
   "metadata": {
    "heading_collapsed": true,
    "hidden": true
   },
   "source": [
    "## Functions "
   ]
  },
  {
   "cell_type": "code",
   "execution_count": 46,
   "id": "07c3d580",
   "metadata": {
    "ExecuteTime": {
     "end_time": "2021-12-03T14:35:37.132521Z",
     "start_time": "2021-12-03T14:35:37.113809Z"
    },
    "hidden": true
   },
   "outputs": [],
   "source": [
    "def flatten(A):\n",
    "    rt = []\n",
    "    for i in A:\n",
    "        if isinstance(i,list): rt.extend(flatten(i))\n",
    "        else: rt.append(i)\n",
    "    return rt"
   ]
  },
  {
   "cell_type": "code",
   "execution_count": 47,
   "id": "728fe78e",
   "metadata": {
    "ExecuteTime": {
     "end_time": "2021-12-03T15:11:49.660875Z",
     "start_time": "2021-12-03T15:11:49.652888Z"
    },
    "hidden": true
   },
   "outputs": [],
   "source": [
    "def append_list_as_row_list(file_name, list_of_elem):\n",
    "    with open(file_name, 'a+', newline='', encoding='utf-8-sig') as write_obj:\n",
    "        csv_writer = writer(write_obj)\n",
    "        csv_writer.writerow(list_of_elem)"
   ]
  },
  {
   "cell_type": "markdown",
   "id": "1d59ff92",
   "metadata": {
    "heading_collapsed": true
   },
   "source": [
    "# Link Generation"
   ]
  },
  {
   "cell_type": "code",
   "execution_count": 48,
   "id": "5c316a7f",
   "metadata": {
    "ExecuteTime": {
     "end_time": "2021-12-03T14:36:03.169685Z",
     "start_time": "2021-12-03T14:36:03.164627Z"
    },
    "hidden": true
   },
   "outputs": [],
   "source": [
    "headers = {'User-Agent': 'Mozilla/5.0 (Macintosh; Intel Mac OS X 10_11_5) AppleWebKit/537.36 (KHTML, like Gecko) Chrome/50.0.2661.102 Safari/537.36'}\n",
    "\n",
    "\n",
    "pages = set()\n",
    "def getLinks(pageUrl):\n",
    "    global pages\n",
    "    html = requests.get(pageUrl, headers = headers)\n",
    "    bsObj = BeautifulSoup(html.text, 'html.parser')\n",
    "    for link in bsObj.findAll(\"a\", href=re.compile(\"https://myrealty.am/en/apartments-for-rent/756855\\?page=\\d+$\")):\n",
    "        if 'href' in link.attrs:\n",
    "            if link.attrs['href'] not in pages:\n",
    "                newPage = link.attrs['href']\n",
    "                pages.add(newPage)\n",
    "                getLinks(newPage)\n",
    "getLinks(\"https://myrealty.am/en/apartments-for-rent/756855\")"
   ]
  },
  {
   "cell_type": "code",
   "execution_count": 49,
   "id": "0b09117a",
   "metadata": {},
   "outputs": [
    {
     "data": {
      "text/plain": [
       "175"
      ]
     },
     "execution_count": 49,
     "metadata": {},
     "output_type": "execute_result"
    }
   ],
   "source": [
    "len(pages)"
   ]
  },
  {
   "cell_type": "markdown",
   "id": "a23e0a27",
   "metadata": {
    "heading_collapsed": true
   },
   "source": [
    "# Get Individual Links"
   ]
  },
  {
   "cell_type": "code",
   "execution_count": 50,
   "id": "93ae5fe8",
   "metadata": {
    "ExecuteTime": {
     "end_time": "2021-12-03T14:45:41.707964Z",
     "start_time": "2021-12-03T14:36:07.401499Z"
    },
    "hidden": true
   },
   "outputs": [
    {
     "data": {
      "application/vnd.jupyter.widget-view+json": {
       "model_id": "46b533d45388497abfa8d2cc993b2fd7",
       "version_major": 2,
       "version_minor": 0
      },
      "text/plain": [
       "  0%|          | 0/175 [00:00<?, ?it/s]"
      ]
     },
     "metadata": {},
     "output_type": "display_data"
    }
   ],
   "source": [
    "links = []\n",
    "\n",
    "for link in tqdm(pages):\n",
    "    header = {'User-Agent':str(ua.random)}\n",
    "    content = requests.get(link, headers = header)\n",
    "    soup = BeautifulSoup(content.content, 'html.parser')\n",
    "    \n",
    "    aptrent_container = soup.find('div', {'class':'row no-gutters items-list'})\n",
    "    btf_aptrent_container = BeautifulSoup(str(aptrent_container), 'html.parser')\n",
    "    \n",
    "    links_raw = btf_aptrent_container.find_all('a', {'class':'btn btn-pink-transparent btn-cs text-uppercase item-more-btn ml-auto'})\n",
    "    links_clean = [i['href'] for i in links_raw]\n",
    "    links.append(links_clean)\n",
    "\n",
    "\n",
    "links = flatten(links)"
   ]
  },
  {
   "cell_type": "code",
   "execution_count": 51,
   "id": "094e8485",
   "metadata": {},
   "outputs": [
    {
     "data": {
      "text/plain": [
       "6282"
      ]
     },
     "execution_count": 51,
     "metadata": {},
     "output_type": "execute_result"
    }
   ],
   "source": [
    "len(links)"
   ]
  },
  {
   "cell_type": "markdown",
   "id": "271f17f7",
   "metadata": {
    "heading_collapsed": true
   },
   "source": [
    "# Scrape Data"
   ]
  },
  {
   "cell_type": "markdown",
   "id": "37e6bd85",
   "metadata": {
    "heading_collapsed": true,
    "hidden": true
   },
   "source": [
    "## Create Empty CSV "
   ]
  },
  {
   "cell_type": "code",
   "execution_count": 52,
   "id": "f2c69747",
   "metadata": {
    "ExecuteTime": {
     "end_time": "2021-12-03T15:12:18.503620Z",
     "start_time": "2021-12-03T15:12:18.472977Z"
    },
    "hidden": true
   },
   "outputs": [],
   "source": [
    "columns = ['ID', 'Location', 'Region', 'District', 'Street', 'Price', 'Views', 'Area', 'Room', 'Floor', 'Storeys',\n",
    "           'Bathrooms', 'BuildType', 'CeilingHeight', 'Condition', 'Date Added', \n",
    "           'Date Edited', 'Date Scraped', 'Latitude', 'Longitude',  'Address',\n",
    "           'Facilities', 'Additional Info', 'url']\n",
    "\n",
    "data = pd.DataFrame(columns=columns)\n",
    "data.to_csv('apt.rent.0805.csv', index=False)"
   ]
  },
  {
   "cell_type": "markdown",
   "id": "ac741982",
   "metadata": {
    "heading_collapsed": true,
    "hidden": true
   },
   "source": [
    "## Scrape & Store "
   ]
  },
  {
   "cell_type": "code",
   "execution_count": 53,
   "id": "e642576e",
   "metadata": {
    "ExecuteTime": {
     "end_time": "2021-12-03T15:13:16.376006Z",
     "start_time": "2021-12-03T15:12:21.905524Z"
    },
    "hidden": true
   },
   "outputs": [
    {
     "data": {
      "application/vnd.jupyter.widget-view+json": {
       "model_id": "99e33d2a903e4f57bdd1f2b8b0ca3994",
       "version_major": 2,
       "version_minor": 0
      },
      "text/plain": [
       "  0%|          | 0/6282 [00:00<?, ?it/s]"
      ]
     },
     "metadata": {},
     "output_type": "display_data"
    }
   ],
   "source": [
    "for apt in tqdm(links):\n",
    "    header = {'User-Agent':str(ua.random)}\n",
    "    content = requests.get(apt, headers = header)\n",
    "    \n",
    "    soup = BeautifulSoup(content.content, 'html.parser')\n",
    "    \n",
    "    try:\n",
    "        test_id = soup.find('div', {'class':'item-view-id'})\n",
    "        if test_id:\n",
    "            ID = test_id.text.strip().split(' ')[1]\n",
    "        else:\n",
    "            ID = None\n",
    "\n",
    "        test_location = soup.find('div', {'class':'col-auto item-view-address pl-0 mb-2 mt-1'})\n",
    "        if test_location:\n",
    "            Location = test_location.text.strip()\n",
    "            Region = test_location.text.strip().split(',')[0]\n",
    "            District = test_location.text.strip().split(',')[1]\n",
    "            Street = test_location.text.strip().split(',')[2]\n",
    "        else:\n",
    "            Location = None\n",
    "            Region = None\n",
    "            District = None\n",
    "            Street = None\n",
    "\n",
    "        test_price = soup.find('div', {'class':'item-view-price'})\n",
    "        if test_price:\n",
    "            Price = test_price.text.strip().replace(\",\", \"\")\n",
    "        else:\n",
    "            Price = None\n",
    "\n",
    "        test_views = soup.find('span', {'class':'item-view-count'})\n",
    "        if test_views:\n",
    "            Views = test_views.text.strip()\n",
    "        else:\n",
    "            Views = None\n",
    "\n",
    "        details = [i.text for i in soup.find('div', {'class': 'item-view-price-params'}).findAll('span')]\n",
    "        if details:\n",
    "            Area = details[0].split()[0]\n",
    "            Rooms = details[1].replace(\"+\", \"\")\n",
    "            Floor = details[2].split('/')[0]\n",
    "            Storeys = details[2].split('/')[1]\n",
    "        else:\n",
    "            Area = None\n",
    "            Rooms = None\n",
    "            Floor = None\n",
    "            Storeys = None\n",
    "\n",
    "        params = [i.text for i in soup.findAll('div', {'class': 'col-5'})]\n",
    "        if params:\n",
    "            Bathrooms = params[0].split()[0].replace(\"+\", \"\")\n",
    "            BuildType = params[1].split()[0]\n",
    "            CeilingHeight = params[2].split()[0]\n",
    "            Condition = params[3].strip()\n",
    "        else:\n",
    "            Bathrooms = None\n",
    "            BuildType = None\n",
    "            CeilingHeight = None\n",
    "            Condition = None\n",
    "            \n",
    "        date_id = [i.text for i in soup.findAll('div', {'class': 'row no-gutters flex-column item-view-date'})]\n",
    "        if date_id:\n",
    "            DateAdded = str(date_id).split()[2]\n",
    "            DateEdited = str(date_id).split()[5]\n",
    "        else:\n",
    "            DateAdded = None\n",
    "            DateEdited = None\n",
    "        DateScraped = date.today().strftime(\"%d.%m.%Y\")\n",
    "        \n",
    "        \n",
    "        test_coord = soup.find(\"div\", {'id': 'yandex_map_item_view'}).attrs\n",
    "        if test_coord:\n",
    "            Latitude = test_coord['data-lat']\n",
    "            Longitude = test_coord['data-lng']\n",
    "            geolocator1 = Nominatim(user_agent=\"coordinateconverter\")\n",
    "            location1 = geolocator1.reverse(\"{}, {}\".format(Latitude, Longitude))\n",
    "            Address = location1.address\n",
    "            \n",
    "        else: \n",
    "            Latitude = None\n",
    "            Longitude = None\n",
    "            Address = None\n",
    "            \n",
    "        test_facilities = [i.text for i in soup.findAll('div', {'class': 'row item-view-facilities mb-4'})[0].findAll('label')]\n",
    "        if test_facilities:\n",
    "            Facilities = test_facilities\n",
    "        else:\n",
    "            Facilities = None\n",
    "\n",
    "        test_info = [i.text for i in soup.findAll('div', {'class': 'row item-view-facilities mb-4'})[1].findAll('label')]\n",
    "        if test_info:\n",
    "            Additional = test_info\n",
    "        else:\n",
    "            Additional = None\n",
    "            \n",
    "        url = apt\n",
    "            \n",
    "    except:\n",
    "        continue\n",
    "    content = [ID, Location, Region, District, Street, Price, Views, Area, Rooms, Floor, Storeys, Bathrooms,\n",
    "               BuildType, CeilingHeight, Condition, DateAdded, DateEdited, DateScraped, Latitude, Longitude,\n",
    "               Address, Facilities, Additional, url]\n",
    "    append_list_as_row_list('apt.rent.0805.csv', content)"
   ]
  },
  {
   "cell_type": "code",
   "execution_count": 41,
   "id": "11b10a9f",
   "metadata": {},
   "outputs": [
    {
     "data": {
      "text/html": [
       "<div>\n",
       "<style scoped>\n",
       "    .dataframe tbody tr th:only-of-type {\n",
       "        vertical-align: middle;\n",
       "    }\n",
       "\n",
       "    .dataframe tbody tr th {\n",
       "        vertical-align: top;\n",
       "    }\n",
       "\n",
       "    .dataframe thead th {\n",
       "        text-align: right;\n",
       "    }\n",
       "</style>\n",
       "<table border=\"1\" class=\"dataframe\">\n",
       "  <thead>\n",
       "    <tr style=\"text-align: right;\">\n",
       "      <th></th>\n",
       "      <th>ID</th>\n",
       "      <th>Location</th>\n",
       "      <th>Region</th>\n",
       "      <th>District</th>\n",
       "      <th>Street</th>\n",
       "      <th>Price</th>\n",
       "      <th>Views</th>\n",
       "      <th>Area</th>\n",
       "      <th>Room</th>\n",
       "      <th>Floor</th>\n",
       "      <th>...</th>\n",
       "      <th>Condition</th>\n",
       "      <th>Date Added</th>\n",
       "      <th>Date Edited</th>\n",
       "      <th>Date Scraped</th>\n",
       "      <th>Latitude</th>\n",
       "      <th>Longitude</th>\n",
       "      <th>Address</th>\n",
       "      <th>Facilities</th>\n",
       "      <th>Additional Info</th>\n",
       "      <th>url</th>\n",
       "    </tr>\n",
       "  </thead>\n",
       "  <tbody>\n",
       "    <tr>\n",
       "      <th>0</th>\n",
       "      <td>84218</td>\n",
       "      <td>Yerevan, Center, Saryan St</td>\n",
       "      <td>Yerevan</td>\n",
       "      <td>Center</td>\n",
       "      <td>Saryan St</td>\n",
       "      <td>600</td>\n",
       "      <td>2927</td>\n",
       "      <td>75</td>\n",
       "      <td>2</td>\n",
       "      <td>9</td>\n",
       "      <td>...</td>\n",
       "      <td>Good</td>\n",
       "      <td>10.09.2019</td>\n",
       "      <td>14.12.2019</td>\n",
       "      <td>08.05.2022</td>\n",
       "      <td>40.182390</td>\n",
       "      <td>44.505119</td>\n",
       "      <td>27, Սարյանի փողոց, Կենտրոն, Երևան, 0002, Հայաստան</td>\n",
       "      <td>['Heating', 'Internet', 'Hot water', 'Electric...</td>\n",
       "      <td>['Furniture', 'Equipment', 'Euro windows', 'Ti...</td>\n",
       "      <td>https://myrealty.am/en/2-bedroom/apartment-for...</td>\n",
       "    </tr>\n",
       "    <tr>\n",
       "      <th>1</th>\n",
       "      <td>84217</td>\n",
       "      <td>Yerevan, Center, Sayat-Nova Ave</td>\n",
       "      <td>Yerevan</td>\n",
       "      <td>Center</td>\n",
       "      <td>Sayat-Nova Ave</td>\n",
       "      <td>950</td>\n",
       "      <td>3033</td>\n",
       "      <td>103</td>\n",
       "      <td>3</td>\n",
       "      <td>7</td>\n",
       "      <td>...</td>\n",
       "      <td>Newly repaired</td>\n",
       "      <td>10.09.2019</td>\n",
       "      <td>06.05.2020</td>\n",
       "      <td>08.05.2022</td>\n",
       "      <td>40.182126</td>\n",
       "      <td>44.512085</td>\n",
       "      <td>30, Եզնիկ Կողբացու փողոց, Կենտրոն, Երևան, 0002...</td>\n",
       "      <td>['Heating', 'Internet', 'Hot water', 'Sewerage...</td>\n",
       "      <td>['Furniture', 'Equipment', 'Euro windows', 'Ir...</td>\n",
       "      <td>https://myrealty.am/en/3-bedroom/apartment-for...</td>\n",
       "    </tr>\n",
       "    <tr>\n",
       "      <th>2</th>\n",
       "      <td>84181</td>\n",
       "      <td>Yerevan, Center, Amiryan St</td>\n",
       "      <td>Yerevan</td>\n",
       "      <td>Center</td>\n",
       "      <td>Amiryan St</td>\n",
       "      <td>890</td>\n",
       "      <td>2692</td>\n",
       "      <td>75</td>\n",
       "      <td>3</td>\n",
       "      <td>9</td>\n",
       "      <td>...</td>\n",
       "      <td>Newly repaired</td>\n",
       "      <td>10.09.2019</td>\n",
       "      <td>14.12.2019</td>\n",
       "      <td>08.05.2022</td>\n",
       "      <td>40.180622</td>\n",
       "      <td>44.508178</td>\n",
       "      <td>HAF-HAF, 13/45, Ամիրյան փողոց, Կենտրոն, Երևան,...</td>\n",
       "      <td>['Heating', 'Internet', 'Hot water', 'Electric...</td>\n",
       "      <td>['Furniture', 'Equipment', 'Euro windows', 'Ti...</td>\n",
       "      <td>https://myrealty.am/en/3-bedroom/apartment-for...</td>\n",
       "    </tr>\n",
       "    <tr>\n",
       "      <th>3</th>\n",
       "      <td>84177</td>\n",
       "      <td>Yerevan, Center, Sayat-Nova Ave</td>\n",
       "      <td>Yerevan</td>\n",
       "      <td>Center</td>\n",
       "      <td>Sayat-Nova Ave</td>\n",
       "      <td>950</td>\n",
       "      <td>2649</td>\n",
       "      <td>103</td>\n",
       "      <td>3</td>\n",
       "      <td>7</td>\n",
       "      <td>...</td>\n",
       "      <td>Newly repaired</td>\n",
       "      <td>10.09.2019</td>\n",
       "      <td>14.12.2019</td>\n",
       "      <td>08.05.2022</td>\n",
       "      <td>40.183568</td>\n",
       "      <td>44.520496</td>\n",
       "      <td>21, Սայաթ-Նովայի պողոտա, Կենտրոն, Երևան, 0001,...</td>\n",
       "      <td>['Heating', 'Internet', 'Hot water', 'Electric...</td>\n",
       "      <td>['Furniture', 'Equipment', 'Euro windows', 'Ti...</td>\n",
       "      <td>https://myrealty.am/en/3-bedroom/apartment-for...</td>\n",
       "    </tr>\n",
       "    <tr>\n",
       "      <th>4</th>\n",
       "      <td>84167</td>\n",
       "      <td>Yerevan, Arabkir, Baghramyan av(Arabkir)</td>\n",
       "      <td>Yerevan</td>\n",
       "      <td>Arabkir</td>\n",
       "      <td>Baghramyan av(Arabkir)</td>\n",
       "      <td>1300</td>\n",
       "      <td>3007</td>\n",
       "      <td>120</td>\n",
       "      <td>3</td>\n",
       "      <td>4</td>\n",
       "      <td>...</td>\n",
       "      <td>Newly repaired</td>\n",
       "      <td>10.09.2019</td>\n",
       "      <td>09.07.2020</td>\n",
       "      <td>08.05.2022</td>\n",
       "      <td>40.193848</td>\n",
       "      <td>44.497105</td>\n",
       "      <td>59, Մարշալ Բաղրամյան պողոտա, Արաբկիր, Երևան, 0...</td>\n",
       "      <td>['Heating', 'Internet', 'Hot water', 'Sewerage...</td>\n",
       "      <td>['Furniture', 'Equipment', 'Euro windows', 'Ir...</td>\n",
       "      <td>https://myrealty.am/en/3-bedroom/apartment-for...</td>\n",
       "    </tr>\n",
       "    <tr>\n",
       "      <th>5</th>\n",
       "      <td>102339</td>\n",
       "      <td>Yerevan, Qanaqer-Zeytun, Rubinyants St</td>\n",
       "      <td>Yerevan</td>\n",
       "      <td>Qanaqer-Zeytun</td>\n",
       "      <td>Rubinyants St</td>\n",
       "      <td>421</td>\n",
       "      <td>1749</td>\n",
       "      <td>74</td>\n",
       "      <td>3</td>\n",
       "      <td>3</td>\n",
       "      <td>...</td>\n",
       "      <td>Good</td>\n",
       "      <td>10.09.2019</td>\n",
       "      <td>07.09.2020</td>\n",
       "      <td>08.05.2022</td>\n",
       "      <td>40.203145</td>\n",
       "      <td>44.548000</td>\n",
       "      <td>22, Ռուբինյանց փողոց, Քանաքեռ-Զեյթուն, Երևան, ...</td>\n",
       "      <td>['Heating', 'Internet', 'Sewerage, Canalizatio...</td>\n",
       "      <td>['Furniture', 'Equipment', 'Euro windows', 'Ir...</td>\n",
       "      <td>https://myrealty.am/en/3-bedroom/apartment-for...</td>\n",
       "    </tr>\n",
       "    <tr>\n",
       "      <th>6</th>\n",
       "      <td>84098</td>\n",
       "      <td>Yerevan, Center, A.Manukyan St</td>\n",
       "      <td>Yerevan</td>\n",
       "      <td>Center</td>\n",
       "      <td>A.Manukyan St</td>\n",
       "      <td>3000</td>\n",
       "      <td>3272</td>\n",
       "      <td>130</td>\n",
       "      <td>4</td>\n",
       "      <td>3</td>\n",
       "      <td>...</td>\n",
       "      <td>Newly repaired</td>\n",
       "      <td>09.09.2019</td>\n",
       "      <td>01.05.2020</td>\n",
       "      <td>08.05.2022</td>\n",
       "      <td>40.175329</td>\n",
       "      <td>44.522743</td>\n",
       "      <td>HSBC, 10, Ալեք Մանուկյանի փողոց, Կենտրոն, Երևա...</td>\n",
       "      <td>['Heating', 'Internet', 'Hot water', 'Electric...</td>\n",
       "      <td>['Furniture', 'Equipment', 'Euro windows', 'Ir...</td>\n",
       "      <td>https://myrealty.am/en/4-bedroom/apartment-for...</td>\n",
       "    </tr>\n",
       "    <tr>\n",
       "      <th>7</th>\n",
       "      <td>84094</td>\n",
       "      <td>Yerevan, Center, Charents St</td>\n",
       "      <td>Yerevan</td>\n",
       "      <td>Center</td>\n",
       "      <td>Charents St</td>\n",
       "      <td>1000</td>\n",
       "      <td>2248</td>\n",
       "      <td>93</td>\n",
       "      <td>3</td>\n",
       "      <td>2</td>\n",
       "      <td>...</td>\n",
       "      <td>Newly repaired</td>\n",
       "      <td>09.09.2019</td>\n",
       "      <td>16.12.2019</td>\n",
       "      <td>08.05.2022</td>\n",
       "      <td>40.179481</td>\n",
       "      <td>44.527349</td>\n",
       "      <td>28, Չարենցի փողոց, Կենտրոն, Երևան, 0025, Հայաստան</td>\n",
       "      <td>['Heating', 'Internet', 'Hot water', 'Electric...</td>\n",
       "      <td>['Furniture', 'Equipment', 'Euro windows', 'Ir...</td>\n",
       "      <td>https://myrealty.am/en/3-bedroom/apartment-for...</td>\n",
       "    </tr>\n",
       "    <tr>\n",
       "      <th>8</th>\n",
       "      <td>84088</td>\n",
       "      <td>Yerevan, Center, Argishti St</td>\n",
       "      <td>Yerevan</td>\n",
       "      <td>Center</td>\n",
       "      <td>Argishti St</td>\n",
       "      <td>400</td>\n",
       "      <td>4306</td>\n",
       "      <td>55</td>\n",
       "      <td>1</td>\n",
       "      <td>11</td>\n",
       "      <td>...</td>\n",
       "      <td>Good</td>\n",
       "      <td>09.09.2019</td>\n",
       "      <td>19.03.2020</td>\n",
       "      <td>08.05.2022</td>\n",
       "      <td>40.173982</td>\n",
       "      <td>44.504226</td>\n",
       "      <td>7, Արգիշտի փողոց, Կենտրոն, Երևան, 0015, Հայաստան</td>\n",
       "      <td>['Heating', 'Internet', 'Hot water', 'Electric...</td>\n",
       "      <td>['Furniture', 'Equipment', 'Euro windows', 'Op...</td>\n",
       "      <td>https://myrealty.am/en/1-bedroom/apartment-for...</td>\n",
       "    </tr>\n",
       "    <tr>\n",
       "      <th>9</th>\n",
       "      <td>84085</td>\n",
       "      <td>Yerevan, Arabkir, Orbeli Yeghbayrner St</td>\n",
       "      <td>Yerevan</td>\n",
       "      <td>Arabkir</td>\n",
       "      <td>Orbeli Yeghbayrner St</td>\n",
       "      <td>400</td>\n",
       "      <td>2376</td>\n",
       "      <td>60</td>\n",
       "      <td>3</td>\n",
       "      <td>3</td>\n",
       "      <td>...</td>\n",
       "      <td>Good</td>\n",
       "      <td>09.09.2019</td>\n",
       "      <td>13.01.2020</td>\n",
       "      <td>08.05.2022</td>\n",
       "      <td>40.192974</td>\n",
       "      <td>44.492340</td>\n",
       "      <td>33, Օրբելի եղբայրների փողոց, Արաբկիր, Երևան, 0...</td>\n",
       "      <td>['Heating', 'Internet', 'Hot water', 'Electric...</td>\n",
       "      <td>['Furniture', 'Equipment', 'Euro windows', 'Ti...</td>\n",
       "      <td>https://myrealty.am/en/3-bedroom/apartment-for...</td>\n",
       "    </tr>\n",
       "  </tbody>\n",
       "</table>\n",
       "<p>10 rows × 24 columns</p>\n",
       "</div>"
      ],
      "text/plain": [
       "       ID                                  Location   Region         District  \\\n",
       "0   84218                Yerevan, Center, Saryan St  Yerevan           Center   \n",
       "1   84217           Yerevan, Center, Sayat-Nova Ave  Yerevan           Center   \n",
       "2   84181               Yerevan, Center, Amiryan St  Yerevan           Center   \n",
       "3   84177           Yerevan, Center, Sayat-Nova Ave  Yerevan           Center   \n",
       "4   84167  Yerevan, Arabkir, Baghramyan av(Arabkir)  Yerevan          Arabkir   \n",
       "5  102339    Yerevan, Qanaqer-Zeytun, Rubinyants St  Yerevan   Qanaqer-Zeytun   \n",
       "6   84098            Yerevan, Center, A.Manukyan St  Yerevan           Center   \n",
       "7   84094              Yerevan, Center, Charents St  Yerevan           Center   \n",
       "8   84088              Yerevan, Center, Argishti St  Yerevan           Center   \n",
       "9   84085   Yerevan, Arabkir, Orbeli Yeghbayrner St  Yerevan          Arabkir   \n",
       "\n",
       "                    Street  Price  Views  Area  Room  Floor  ...  \\\n",
       "0                Saryan St    600   2927    75     2      9  ...   \n",
       "1           Sayat-Nova Ave    950   3033   103     3      7  ...   \n",
       "2               Amiryan St    890   2692    75     3      9  ...   \n",
       "3           Sayat-Nova Ave    950   2649   103     3      7  ...   \n",
       "4   Baghramyan av(Arabkir)   1300   3007   120     3      4  ...   \n",
       "5            Rubinyants St    421   1749    74     3      3  ...   \n",
       "6            A.Manukyan St   3000   3272   130     4      3  ...   \n",
       "7              Charents St   1000   2248    93     3      2  ...   \n",
       "8              Argishti St    400   4306    55     1     11  ...   \n",
       "9    Orbeli Yeghbayrner St    400   2376    60     3      3  ...   \n",
       "\n",
       "        Condition  Date Added Date Edited  Date Scraped   Latitude  Longitude  \\\n",
       "0            Good  10.09.2019  14.12.2019    08.05.2022  40.182390  44.505119   \n",
       "1  Newly repaired  10.09.2019  06.05.2020    08.05.2022  40.182126  44.512085   \n",
       "2  Newly repaired  10.09.2019  14.12.2019    08.05.2022  40.180622  44.508178   \n",
       "3  Newly repaired  10.09.2019  14.12.2019    08.05.2022  40.183568  44.520496   \n",
       "4  Newly repaired  10.09.2019  09.07.2020    08.05.2022  40.193848  44.497105   \n",
       "5            Good  10.09.2019  07.09.2020    08.05.2022  40.203145  44.548000   \n",
       "6  Newly repaired  09.09.2019  01.05.2020    08.05.2022  40.175329  44.522743   \n",
       "7  Newly repaired  09.09.2019  16.12.2019    08.05.2022  40.179481  44.527349   \n",
       "8            Good  09.09.2019  19.03.2020    08.05.2022  40.173982  44.504226   \n",
       "9            Good  09.09.2019  13.01.2020    08.05.2022  40.192974  44.492340   \n",
       "\n",
       "                                             Address  \\\n",
       "0  27, Սարյանի փողոց, Կենտրոն, Երևան, 0002, Հայաստան   \n",
       "1  30, Եզնիկ Կողբացու փողոց, Կենտրոն, Երևան, 0002...   \n",
       "2  HAF-HAF, 13/45, Ամիրյան փողոց, Կենտրոն, Երևան,...   \n",
       "3  21, Սայաթ-Նովայի պողոտա, Կենտրոն, Երևան, 0001,...   \n",
       "4  59, Մարշալ Բաղրամյան պողոտա, Արաբկիր, Երևան, 0...   \n",
       "5  22, Ռուբինյանց փողոց, Քանաքեռ-Զեյթուն, Երևան, ...   \n",
       "6  HSBC, 10, Ալեք Մանուկյանի փողոց, Կենտրոն, Երևա...   \n",
       "7  28, Չարենցի փողոց, Կենտրոն, Երևան, 0025, Հայաստան   \n",
       "8   7, Արգիշտի փողոց, Կենտրոն, Երևան, 0015, Հայաստան   \n",
       "9  33, Օրբելի եղբայրների փողոց, Արաբկիր, Երևան, 0...   \n",
       "\n",
       "                                          Facilities  \\\n",
       "0  ['Heating', 'Internet', 'Hot water', 'Electric...   \n",
       "1  ['Heating', 'Internet', 'Hot water', 'Sewerage...   \n",
       "2  ['Heating', 'Internet', 'Hot water', 'Electric...   \n",
       "3  ['Heating', 'Internet', 'Hot water', 'Electric...   \n",
       "4  ['Heating', 'Internet', 'Hot water', 'Sewerage...   \n",
       "5  ['Heating', 'Internet', 'Sewerage, Canalizatio...   \n",
       "6  ['Heating', 'Internet', 'Hot water', 'Electric...   \n",
       "7  ['Heating', 'Internet', 'Hot water', 'Electric...   \n",
       "8  ['Heating', 'Internet', 'Hot water', 'Electric...   \n",
       "9  ['Heating', 'Internet', 'Hot water', 'Electric...   \n",
       "\n",
       "                                     Additional Info  \\\n",
       "0  ['Furniture', 'Equipment', 'Euro windows', 'Ti...   \n",
       "1  ['Furniture', 'Equipment', 'Euro windows', 'Ir...   \n",
       "2  ['Furniture', 'Equipment', 'Euro windows', 'Ti...   \n",
       "3  ['Furniture', 'Equipment', 'Euro windows', 'Ti...   \n",
       "4  ['Furniture', 'Equipment', 'Euro windows', 'Ir...   \n",
       "5  ['Furniture', 'Equipment', 'Euro windows', 'Ir...   \n",
       "6  ['Furniture', 'Equipment', 'Euro windows', 'Ir...   \n",
       "7  ['Furniture', 'Equipment', 'Euro windows', 'Ir...   \n",
       "8  ['Furniture', 'Equipment', 'Euro windows', 'Op...   \n",
       "9  ['Furniture', 'Equipment', 'Euro windows', 'Ti...   \n",
       "\n",
       "                                                 url  \n",
       "0  https://myrealty.am/en/2-bedroom/apartment-for...  \n",
       "1  https://myrealty.am/en/3-bedroom/apartment-for...  \n",
       "2  https://myrealty.am/en/3-bedroom/apartment-for...  \n",
       "3  https://myrealty.am/en/3-bedroom/apartment-for...  \n",
       "4  https://myrealty.am/en/3-bedroom/apartment-for...  \n",
       "5  https://myrealty.am/en/3-bedroom/apartment-for...  \n",
       "6  https://myrealty.am/en/4-bedroom/apartment-for...  \n",
       "7  https://myrealty.am/en/3-bedroom/apartment-for...  \n",
       "8  https://myrealty.am/en/1-bedroom/apartment-for...  \n",
       "9  https://myrealty.am/en/3-bedroom/apartment-for...  \n",
       "\n",
       "[10 rows x 24 columns]"
      ]
     },
     "execution_count": 41,
     "metadata": {},
     "output_type": "execute_result"
    }
   ],
   "source": [
    "df = pd.read_csv('apt.rent.0805.csv')\n",
    "df.head()"
   ]
  }
 ],
 "metadata": {
  "kernelspec": {
   "display_name": "Python 3",
   "language": "python",
   "name": "python3"
  },
  "language_info": {
   "codemirror_mode": {
    "name": "ipython",
    "version": 3
   },
   "file_extension": ".py",
   "mimetype": "text/x-python",
   "name": "python",
   "nbconvert_exporter": "python",
   "pygments_lexer": "ipython3",
   "version": "3.8.8"
  },
  "toc": {
   "base_numbering": 1,
   "nav_menu": {},
   "number_sections": true,
   "sideBar": true,
   "skip_h1_title": false,
   "title_cell": "Table of Contents",
   "title_sidebar": "Contents",
   "toc_cell": false,
   "toc_position": {},
   "toc_section_display": true,
   "toc_window_display": false
  }
 },
 "nbformat": 4,
 "nbformat_minor": 5
}
