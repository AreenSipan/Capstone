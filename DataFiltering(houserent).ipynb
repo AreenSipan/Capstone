{
 "cells": [
  {
   "cell_type": "code",
   "execution_count": 28,
   "id": "f9e97c7d",
   "metadata": {},
   "outputs": [
    {
     "data": {
      "text/html": [
       "<div>\n",
       "<style scoped>\n",
       "    .dataframe tbody tr th:only-of-type {\n",
       "        vertical-align: middle;\n",
       "    }\n",
       "\n",
       "    .dataframe tbody tr th {\n",
       "        vertical-align: top;\n",
       "    }\n",
       "\n",
       "    .dataframe thead th {\n",
       "        text-align: right;\n",
       "    }\n",
       "</style>\n",
       "<table border=\"1\" class=\"dataframe\">\n",
       "  <thead>\n",
       "    <tr style=\"text-align: right;\">\n",
       "      <th></th>\n",
       "      <th>ID</th>\n",
       "      <th>Location</th>\n",
       "      <th>Region</th>\n",
       "      <th>District</th>\n",
       "      <th>Street</th>\n",
       "      <th>Price</th>\n",
       "      <th>Views</th>\n",
       "      <th>Area</th>\n",
       "      <th>Room</th>\n",
       "      <th>Storeys</th>\n",
       "      <th>...</th>\n",
       "      <th>Condition</th>\n",
       "      <th>Date Added</th>\n",
       "      <th>Date Edited</th>\n",
       "      <th>Date Scraped</th>\n",
       "      <th>Latitude</th>\n",
       "      <th>Longitude</th>\n",
       "      <th>Address</th>\n",
       "      <th>Facilities</th>\n",
       "      <th>Additional Info</th>\n",
       "      <th>url</th>\n",
       "    </tr>\n",
       "  </thead>\n",
       "  <tbody>\n",
       "    <tr>\n",
       "      <th>0</th>\n",
       "      <td>121413</td>\n",
       "      <td>Tavush, Dilijan, Dilidjan</td>\n",
       "      <td>Tavush</td>\n",
       "      <td>Dilijan</td>\n",
       "      <td>Dilidjan</td>\n",
       "      <td>4500</td>\n",
       "      <td>122</td>\n",
       "      <td>1000</td>\n",
       "      <td>6</td>\n",
       "      <td>2</td>\n",
       "      <td>...</td>\n",
       "      <td>Good</td>\n",
       "      <td>04.05.2022</td>\n",
       "      <td>04.05.2022</td>\n",
       "      <td>08.05.2022</td>\n",
       "      <td>40.740552</td>\n",
       "      <td>44.862597</td>\n",
       "      <td>9, Կալինինի փողոց, Դիլիջան, Դիլիջանի տարածաշրջ...</td>\n",
       "      <td>['Water', 'water 24/7', 'Electricity', 'Intern...</td>\n",
       "      <td>['Playground', 'Park', 'Roadside', 'Close to t...</td>\n",
       "      <td>https://myrealty.am/en/house-for-rent/Dilidjan...</td>\n",
       "    </tr>\n",
       "    <tr>\n",
       "      <th>1</th>\n",
       "      <td>121226</td>\n",
       "      <td>Yerevan, Center, Kajaznuni St</td>\n",
       "      <td>Yerevan</td>\n",
       "      <td>Center</td>\n",
       "      <td>Kajaznuni St</td>\n",
       "      <td>4500</td>\n",
       "      <td>196</td>\n",
       "      <td>385</td>\n",
       "      <td>7</td>\n",
       "      <td>3</td>\n",
       "      <td>...</td>\n",
       "      <td>Newly repaired</td>\n",
       "      <td>28.04.2022</td>\n",
       "      <td>28.04.2022</td>\n",
       "      <td>08.05.2022</td>\n",
       "      <td>40.166373</td>\n",
       "      <td>44.521132</td>\n",
       "      <td>20, Քաջազնունի փողոց, Երևան, 0070, Հայաստան</td>\n",
       "      <td>['Water', 'water 24/7', 'Electricity', 'Air-co...</td>\n",
       "      <td>['Iron door', 'Roadside', 'Close to the bus st...</td>\n",
       "      <td>https://myrealty.am/en/house-for-rent/Kajaznun...</td>\n",
       "    </tr>\n",
       "    <tr>\n",
       "      <th>2</th>\n",
       "      <td>121050</td>\n",
       "      <td>Yerevan, Erebuni, Suvorov st</td>\n",
       "      <td>Yerevan</td>\n",
       "      <td>Erebuni</td>\n",
       "      <td>Suvorov st</td>\n",
       "      <td>3000</td>\n",
       "      <td>310</td>\n",
       "      <td>325</td>\n",
       "      <td>6</td>\n",
       "      <td>3</td>\n",
       "      <td>...</td>\n",
       "      <td>Newly repaired</td>\n",
       "      <td>20.04.2022</td>\n",
       "      <td>20.04.2022</td>\n",
       "      <td>08.05.2022</td>\n",
       "      <td>40.154135</td>\n",
       "      <td>44.515477</td>\n",
       "      <td>42, Սուվորովի փողոց, Էրեբունի, Երևան, 0008, Հա...</td>\n",
       "      <td>['Heating', 'Internet', 'Hot water', 'Electric...</td>\n",
       "      <td>['Furniture', 'Equipment', 'Euro windows', 'Ti...</td>\n",
       "      <td>https://myrealty.am/en/new-build-house-for-ren...</td>\n",
       "    </tr>\n",
       "    <tr>\n",
       "      <th>3</th>\n",
       "      <td>121014</td>\n",
       "      <td>Yerevan, Arabkir, Ghapantsian St</td>\n",
       "      <td>Yerevan</td>\n",
       "      <td>Arabkir</td>\n",
       "      <td>Ghapantsian St</td>\n",
       "      <td>4000</td>\n",
       "      <td>331</td>\n",
       "      <td>580</td>\n",
       "      <td>6</td>\n",
       "      <td>2</td>\n",
       "      <td>...</td>\n",
       "      <td>Newly repaired</td>\n",
       "      <td>19.04.2022</td>\n",
       "      <td>19.04.2022</td>\n",
       "      <td>08.05.2022</td>\n",
       "      <td>40.295531</td>\n",
       "      <td>44.358808</td>\n",
       "      <td>29, Գրիգոր Ղափանցյան փոզոց, Աշտարակ, Աշտարակի ...</td>\n",
       "      <td>['Heating', 'Internet', 'Hot water', 'Electric...</td>\n",
       "      <td>['Furniture', 'Equipment', 'Euro windows', 'Op...</td>\n",
       "      <td>https://myrealty.am/en/new-build-house-for-ren...</td>\n",
       "    </tr>\n",
       "    <tr>\n",
       "      <th>4</th>\n",
       "      <td>120996</td>\n",
       "      <td>Yerevan, Arabkir, Shrjancik Tunel</td>\n",
       "      <td>Yerevan</td>\n",
       "      <td>Arabkir</td>\n",
       "      <td>Shrjancik Tunel</td>\n",
       "      <td>4800</td>\n",
       "      <td>346</td>\n",
       "      <td>1000</td>\n",
       "      <td>4</td>\n",
       "      <td>2</td>\n",
       "      <td>...</td>\n",
       "      <td>Newly repaired</td>\n",
       "      <td>18.04.2022</td>\n",
       "      <td>18.04.2022</td>\n",
       "      <td>08.05.2022</td>\n",
       "      <td>40.233466</td>\n",
       "      <td>44.538971</td>\n",
       "      <td>25/4, Շրջանցիկ Թունել փողոց, Արաբկիր, Երևան, 0...</td>\n",
       "      <td>['Water', 'water 24/7', 'Electricity', 'Air-co...</td>\n",
       "      <td>['Playground', 'Park', 'Roadside', 'Close to t...</td>\n",
       "      <td>https://myrealty.am/en/house-for-rent/Shrjanci...</td>\n",
       "    </tr>\n",
       "  </tbody>\n",
       "</table>\n",
       "<p>5 rows × 23 columns</p>\n",
       "</div>"
      ],
      "text/plain": [
       "       ID                           Location   Region  District  \\\n",
       "0  121413          Tavush, Dilijan, Dilidjan   Tavush   Dilijan   \n",
       "1  121226      Yerevan, Center, Kajaznuni St  Yerevan    Center   \n",
       "2  121050       Yerevan, Erebuni, Suvorov st  Yerevan   Erebuni   \n",
       "3  121014   Yerevan, Arabkir, Ghapantsian St  Yerevan   Arabkir   \n",
       "4  120996  Yerevan, Arabkir, Shrjancik Tunel  Yerevan   Arabkir   \n",
       "\n",
       "             Street Price  Views  Area  Room  Storeys  ...       Condition  \\\n",
       "0          Dilidjan  4500    122  1000     6        2  ...            Good   \n",
       "1      Kajaznuni St  4500    196   385     7        3  ...  Newly repaired   \n",
       "2        Suvorov st  3000    310   325     6        3  ...  Newly repaired   \n",
       "3    Ghapantsian St  4000    331   580     6        2  ...  Newly repaired   \n",
       "4   Shrjancik Tunel  4800    346  1000     4        2  ...  Newly repaired   \n",
       "\n",
       "   Date Added  Date Edited Date Scraped   Latitude  Longitude  \\\n",
       "0  04.05.2022   04.05.2022   08.05.2022  40.740552  44.862597   \n",
       "1  28.04.2022   28.04.2022   08.05.2022  40.166373  44.521132   \n",
       "2  20.04.2022   20.04.2022   08.05.2022  40.154135  44.515477   \n",
       "3  19.04.2022   19.04.2022   08.05.2022  40.295531  44.358808   \n",
       "4  18.04.2022   18.04.2022   08.05.2022  40.233466  44.538971   \n",
       "\n",
       "                                             Address  \\\n",
       "0  9, Կալինինի փողոց, Դիլիջան, Դիլիջանի տարածաշրջ...   \n",
       "1        20, Քաջազնունի փողոց, Երևան, 0070, Հայաստան   \n",
       "2  42, Սուվորովի փողոց, Էրեբունի, Երևան, 0008, Հա...   \n",
       "3  29, Գրիգոր Ղափանցյան փոզոց, Աշտարակ, Աշտարակի ...   \n",
       "4  25/4, Շրջանցիկ Թունել փողոց, Արաբկիր, Երևան, 0...   \n",
       "\n",
       "                                          Facilities  \\\n",
       "0  ['Water', 'water 24/7', 'Electricity', 'Intern...   \n",
       "1  ['Water', 'water 24/7', 'Electricity', 'Air-co...   \n",
       "2  ['Heating', 'Internet', 'Hot water', 'Electric...   \n",
       "3  ['Heating', 'Internet', 'Hot water', 'Electric...   \n",
       "4  ['Water', 'water 24/7', 'Electricity', 'Air-co...   \n",
       "\n",
       "                                     Additional Info  \\\n",
       "0  ['Playground', 'Park', 'Roadside', 'Close to t...   \n",
       "1  ['Iron door', 'Roadside', 'Close to the bus st...   \n",
       "2  ['Furniture', 'Equipment', 'Euro windows', 'Ti...   \n",
       "3  ['Furniture', 'Equipment', 'Euro windows', 'Op...   \n",
       "4  ['Playground', 'Park', 'Roadside', 'Close to t...   \n",
       "\n",
       "                                                 url  \n",
       "0  https://myrealty.am/en/house-for-rent/Dilidjan...  \n",
       "1  https://myrealty.am/en/house-for-rent/Kajaznun...  \n",
       "2  https://myrealty.am/en/new-build-house-for-ren...  \n",
       "3  https://myrealty.am/en/new-build-house-for-ren...  \n",
       "4  https://myrealty.am/en/house-for-rent/Shrjanci...  \n",
       "\n",
       "[5 rows x 23 columns]"
      ]
     },
     "execution_count": 28,
     "metadata": {},
     "output_type": "execute_result"
    }
   ],
   "source": [
    "import pandas as pd\n",
    "import numpy as np\n",
    "import random\n",
    "\n",
    "df = pd.read_csv('house.rent.0805.csv')\n",
    "df.head()"
   ]
  },
  {
   "cell_type": "code",
   "execution_count": 29,
   "id": "f8832cec",
   "metadata": {},
   "outputs": [],
   "source": [
    "df.rename(columns = {'Storeys':'Floors'}, inplace = True)"
   ]
  },
  {
   "cell_type": "code",
   "execution_count": 33,
   "id": "b903c342",
   "metadata": {},
   "outputs": [
    {
     "data": {
      "text/html": [
       "<div>\n",
       "<style scoped>\n",
       "    .dataframe tbody tr th:only-of-type {\n",
       "        vertical-align: middle;\n",
       "    }\n",
       "\n",
       "    .dataframe tbody tr th {\n",
       "        vertical-align: top;\n",
       "    }\n",
       "\n",
       "    .dataframe thead th {\n",
       "        text-align: right;\n",
       "    }\n",
       "</style>\n",
       "<table border=\"1\" class=\"dataframe\">\n",
       "  <thead>\n",
       "    <tr style=\"text-align: right;\">\n",
       "      <th></th>\n",
       "      <th>ID</th>\n",
       "      <th>Location</th>\n",
       "      <th>Region</th>\n",
       "      <th>District</th>\n",
       "      <th>Street</th>\n",
       "      <th>Price</th>\n",
       "      <th>Views</th>\n",
       "      <th>Area</th>\n",
       "      <th>Room</th>\n",
       "      <th>Floors</th>\n",
       "      <th>...</th>\n",
       "      <th>Additional Info</th>\n",
       "      <th>url</th>\n",
       "      <th>on_request</th>\n",
       "      <th>Price/sqm</th>\n",
       "      <th>Error</th>\n",
       "      <th>Floor</th>\n",
       "      <th>Storeys</th>\n",
       "      <th>Listing_type</th>\n",
       "      <th>Property_type</th>\n",
       "      <th>Platform_name</th>\n",
       "    </tr>\n",
       "  </thead>\n",
       "  <tbody>\n",
       "    <tr>\n",
       "      <th>0</th>\n",
       "      <td>121413</td>\n",
       "      <td>Tavush, Dilijan, Dilidjan</td>\n",
       "      <td>Tavush</td>\n",
       "      <td>Dilijan</td>\n",
       "      <td>Dilidjan</td>\n",
       "      <td>4500</td>\n",
       "      <td>122</td>\n",
       "      <td>1000</td>\n",
       "      <td>6</td>\n",
       "      <td>2</td>\n",
       "      <td>...</td>\n",
       "      <td>['Playground', 'Park', 'Roadside', 'Close to t...</td>\n",
       "      <td>https://myrealty.am/en/house-for-rent/Dilidjan...</td>\n",
       "      <td>0</td>\n",
       "      <td>NaN</td>\n",
       "      <td>0</td>\n",
       "      <td>NaN</td>\n",
       "      <td>NaN</td>\n",
       "      <td>for rent</td>\n",
       "      <td>house</td>\n",
       "      <td>myrealty.am</td>\n",
       "    </tr>\n",
       "    <tr>\n",
       "      <th>1</th>\n",
       "      <td>121226</td>\n",
       "      <td>Yerevan, Center, Kajaznuni St</td>\n",
       "      <td>Yerevan</td>\n",
       "      <td>Center</td>\n",
       "      <td>Kajaznuni St</td>\n",
       "      <td>4500</td>\n",
       "      <td>196</td>\n",
       "      <td>385</td>\n",
       "      <td>7</td>\n",
       "      <td>3</td>\n",
       "      <td>...</td>\n",
       "      <td>['Iron door', 'Roadside', 'Close to the bus st...</td>\n",
       "      <td>https://myrealty.am/en/house-for-rent/Kajaznun...</td>\n",
       "      <td>0</td>\n",
       "      <td>NaN</td>\n",
       "      <td>0</td>\n",
       "      <td>NaN</td>\n",
       "      <td>NaN</td>\n",
       "      <td>for rent</td>\n",
       "      <td>house</td>\n",
       "      <td>bars.am</td>\n",
       "    </tr>\n",
       "    <tr>\n",
       "      <th>2</th>\n",
       "      <td>121050</td>\n",
       "      <td>Yerevan, Erebuni, Suvorov st</td>\n",
       "      <td>Yerevan</td>\n",
       "      <td>Erebuni</td>\n",
       "      <td>Suvorov st</td>\n",
       "      <td>3000</td>\n",
       "      <td>310</td>\n",
       "      <td>325</td>\n",
       "      <td>6</td>\n",
       "      <td>3</td>\n",
       "      <td>...</td>\n",
       "      <td>['Furniture', 'Equipment', 'Euro windows', 'Ti...</td>\n",
       "      <td>https://myrealty.am/en/new-build-house-for-ren...</td>\n",
       "      <td>0</td>\n",
       "      <td>NaN</td>\n",
       "      <td>0</td>\n",
       "      <td>NaN</td>\n",
       "      <td>NaN</td>\n",
       "      <td>for rent</td>\n",
       "      <td>house</td>\n",
       "      <td>bars.am</td>\n",
       "    </tr>\n",
       "    <tr>\n",
       "      <th>3</th>\n",
       "      <td>121014</td>\n",
       "      <td>Yerevan, Arabkir, Ghapantsian St</td>\n",
       "      <td>Yerevan</td>\n",
       "      <td>Arabkir</td>\n",
       "      <td>Ghapantsian St</td>\n",
       "      <td>4000</td>\n",
       "      <td>331</td>\n",
       "      <td>580</td>\n",
       "      <td>6</td>\n",
       "      <td>2</td>\n",
       "      <td>...</td>\n",
       "      <td>['Furniture', 'Equipment', 'Euro windows', 'Op...</td>\n",
       "      <td>https://myrealty.am/en/new-build-house-for-ren...</td>\n",
       "      <td>0</td>\n",
       "      <td>NaN</td>\n",
       "      <td>0</td>\n",
       "      <td>NaN</td>\n",
       "      <td>NaN</td>\n",
       "      <td>for rent</td>\n",
       "      <td>house</td>\n",
       "      <td>myrealty.am</td>\n",
       "    </tr>\n",
       "    <tr>\n",
       "      <th>4</th>\n",
       "      <td>120996</td>\n",
       "      <td>Yerevan, Arabkir, Shrjancik Tunel</td>\n",
       "      <td>Yerevan</td>\n",
       "      <td>Arabkir</td>\n",
       "      <td>Shrjancik Tunel</td>\n",
       "      <td>4800</td>\n",
       "      <td>346</td>\n",
       "      <td>1000</td>\n",
       "      <td>4</td>\n",
       "      <td>2</td>\n",
       "      <td>...</td>\n",
       "      <td>['Playground', 'Park', 'Roadside', 'Close to t...</td>\n",
       "      <td>https://myrealty.am/en/house-for-rent/Shrjanci...</td>\n",
       "      <td>0</td>\n",
       "      <td>NaN</td>\n",
       "      <td>0</td>\n",
       "      <td>NaN</td>\n",
       "      <td>NaN</td>\n",
       "      <td>for rent</td>\n",
       "      <td>house</td>\n",
       "      <td>bars.am</td>\n",
       "    </tr>\n",
       "  </tbody>\n",
       "</table>\n",
       "<p>5 rows × 31 columns</p>\n",
       "</div>"
      ],
      "text/plain": [
       "       ID                           Location   Region  District  \\\n",
       "0  121413          Tavush, Dilijan, Dilidjan   Tavush   Dilijan   \n",
       "1  121226      Yerevan, Center, Kajaznuni St  Yerevan    Center   \n",
       "2  121050       Yerevan, Erebuni, Suvorov st  Yerevan   Erebuni   \n",
       "3  121014   Yerevan, Arabkir, Ghapantsian St  Yerevan   Arabkir   \n",
       "4  120996  Yerevan, Arabkir, Shrjancik Tunel  Yerevan   Arabkir   \n",
       "\n",
       "             Street Price  Views  Area  Room  Floors  ...  \\\n",
       "0          Dilidjan  4500    122  1000     6       2  ...   \n",
       "1      Kajaznuni St  4500    196   385     7       3  ...   \n",
       "2        Suvorov st  3000    310   325     6       3  ...   \n",
       "3    Ghapantsian St  4000    331   580     6       2  ...   \n",
       "4   Shrjancik Tunel  4800    346  1000     4       2  ...   \n",
       "\n",
       "                                     Additional Info  \\\n",
       "0  ['Playground', 'Park', 'Roadside', 'Close to t...   \n",
       "1  ['Iron door', 'Roadside', 'Close to the bus st...   \n",
       "2  ['Furniture', 'Equipment', 'Euro windows', 'Ti...   \n",
       "3  ['Furniture', 'Equipment', 'Euro windows', 'Op...   \n",
       "4  ['Playground', 'Park', 'Roadside', 'Close to t...   \n",
       "\n",
       "                                                 url  on_request Price/sqm  \\\n",
       "0  https://myrealty.am/en/house-for-rent/Dilidjan...           0       NaN   \n",
       "1  https://myrealty.am/en/house-for-rent/Kajaznun...           0       NaN   \n",
       "2  https://myrealty.am/en/new-build-house-for-ren...           0       NaN   \n",
       "3  https://myrealty.am/en/new-build-house-for-ren...           0       NaN   \n",
       "4  https://myrealty.am/en/house-for-rent/Shrjanci...           0       NaN   \n",
       "\n",
       "  Error Floor Storeys  Listing_type  Property_type Platform_name  \n",
       "0     0   NaN     NaN      for rent          house   myrealty.am  \n",
       "1     0   NaN     NaN      for rent          house       bars.am  \n",
       "2     0   NaN     NaN      for rent          house       bars.am  \n",
       "3     0   NaN     NaN      for rent          house   myrealty.am  \n",
       "4     0   NaN     NaN      for rent          house       bars.am  \n",
       "\n",
       "[5 rows x 31 columns]"
      ]
     },
     "execution_count": 33,
     "metadata": {},
     "output_type": "execute_result"
    }
   ],
   "source": [
    "df['on_request'] = np.where(df['Price']== 'on request', 1, 0)\n",
    "df.loc[df['Price'] == 'on request','Price'] = np.nan\n",
    "df['Price/sqm'] = np.nan\n",
    "df['Error'] = 0\n",
    "df['Floor'] = np.nan\n",
    "df['Storeys'] = np.nan\n",
    "df['Listing_type'] = 'for rent'\n",
    "df['Property_type'] = 'house'\n",
    "df['Platform_name'] = pd.Series(random.choices(['myrealty.am','bars.am'],\n",
    "                                                     weights=[1, 1], k=len(df)))\n",
    "df.head()"
   ]
  },
  {
   "cell_type": "code",
   "execution_count": 3,
   "id": "d51ee050",
   "metadata": {},
   "outputs": [
    {
     "data": {
      "text/plain": [
       "array(['4500', '3000', '4000', '4800', '2500', '2000', '6000', '5000',\n",
       "       '710', '1000', '1700', '700', '406', '750', '6500', '1500', '1100',\n",
       "       '1900', '4200', '3700', '3500', '438', '2200', '8000', '1200',\n",
       "       '285', '1400', '1800', '1600', '1300', '900', '10000', '7000',\n",
       "       '480000', '800', '500', '600', '850', '2700', '2300', '309',\n",
       "       '1262', '2850', nan, '210', '2400', '2800', '460', '340', '450',\n",
       "       '5500', '1550', '520', '842', '526', '113', '2350', '7500', '9000',\n",
       "       '2900', '11', '2600', '600000', '200', '300', '350', '550', '1350',\n",
       "       '2290', '2390', '182', '400', '914', '3100', '2104', '1650',\n",
       "       '4900', '3200', '3800', '530', '381', '248', '1473', '316', '3300',\n",
       "       '631', '12000', '1788'], dtype=object)"
      ]
     },
     "execution_count": 3,
     "metadata": {},
     "output_type": "execute_result"
    }
   ],
   "source": [
    "df.Price.unique()"
   ]
  },
  {
   "cell_type": "code",
   "execution_count": 34,
   "id": "f0ea46ad",
   "metadata": {},
   "outputs": [],
   "source": [
    "df['Price'] = df['Price'].apply(lambda x: float(x))"
   ]
  },
  {
   "cell_type": "code",
   "execution_count": 5,
   "id": "30a1f25c",
   "metadata": {},
   "outputs": [
    {
     "data": {
      "text/plain": [
       "10000.0"
      ]
     },
     "execution_count": 5,
     "metadata": {},
     "output_type": "execute_result"
    }
   ],
   "source": [
    "df.Price.quantile(0.99)"
   ]
  },
  {
   "cell_type": "code",
   "execution_count": 35,
   "id": "d540a55e",
   "metadata": {},
   "outputs": [],
   "source": [
    "df.loc[df['Price'] > 10000 , 'Error'] = 1"
   ]
  },
  {
   "cell_type": "code",
   "execution_count": 7,
   "id": "f63cdfe1",
   "metadata": {},
   "outputs": [
    {
     "data": {
      "text/plain": [
       "array([1000,  385,  325,  580,  500,  800,  400, 1400, 1150,  501,  220,\n",
       "        300,  700,  265,  150,  600,  232,  200,  960,  550,  270, 1500,\n",
       "        660, 1030, 1492,  120, 1600,  250,  288, 1450, 1020,  100,  380,\n",
       "        716, 1200,   52, 1580,  350, 1100,  330,  680,  850,  650,  164,\n",
       "         70,  630, 2000, 2513,  230,   82,  278,  387,  506,  180,  750,\n",
       "        130,  780, 1035, 1054,   80,  450,   98,  360,  260,  160, 2500,\n",
       "        182,  492,  320,  110,  950,   50,  384,  166, 1800,  145,  430,\n",
       "        980,   45,   90,  710, 3162,  210,   40,   10,    1,  880, 2055,\n",
       "         30, 1080, 1120,  240,  770,  102,  266,  125,  940,  170,  310,\n",
       "        705, 5100,  406, 1650,  245, 3000,  915,  190,   96,  370,  470,\n",
       "       1300, 1537, 6300,  620,  378,   60,  253,  178,   51,  140,  185,\n",
       "        720,  314,  340,  622,  840,  216,  144,  137, 2300, 2560, 1077,\n",
       "       4000,  900, 1700,   65, 1260,  534,  863,  530,   20,  475,   58,\n",
       "        806, 3500,  197,  760,   95,  507,  425,  440, 1560])"
      ]
     },
     "execution_count": 7,
     "metadata": {},
     "output_type": "execute_result"
    }
   ],
   "source": [
    "df.Area.unique()"
   ]
  },
  {
   "cell_type": "code",
   "execution_count": 8,
   "id": "196fbb8a",
   "metadata": {},
   "outputs": [
    {
     "data": {
      "text/plain": [
       "50.0"
      ]
     },
     "execution_count": 8,
     "metadata": {},
     "output_type": "execute_result"
    }
   ],
   "source": [
    "df.Area.quantile(0.01)"
   ]
  },
  {
   "cell_type": "code",
   "execution_count": 36,
   "id": "b2008188",
   "metadata": {},
   "outputs": [],
   "source": [
    "df.loc[df['Area'] <= 40 , 'Error'] = 1"
   ]
  },
  {
   "cell_type": "code",
   "execution_count": 10,
   "id": "69abef8e",
   "metadata": {},
   "outputs": [
    {
     "data": {
      "text/plain": [
       "count      690.000000\n",
       "mean      4048.662319\n",
       "std       2456.745887\n",
       "min        122.000000\n",
       "25%       2011.250000\n",
       "50%       3868.500000\n",
       "75%       5813.500000\n",
       "max      13739.000000\n",
       "Name: Views, dtype: float64"
      ]
     },
     "execution_count": 10,
     "metadata": {},
     "output_type": "execute_result"
    }
   ],
   "source": [
    "df.Views.describe()"
   ]
  },
  {
   "cell_type": "code",
   "execution_count": 11,
   "id": "06563503",
   "metadata": {},
   "outputs": [
    {
     "data": {
      "text/plain": [
       "array([6, 7, 4, 5, 3, 2, 1])"
      ]
     },
     "execution_count": 11,
     "metadata": {},
     "output_type": "execute_result"
    }
   ],
   "source": [
    "df.Room.unique()"
   ]
  },
  {
   "cell_type": "code",
   "execution_count": 12,
   "id": "1a914496",
   "metadata": {},
   "outputs": [
    {
     "data": {
      "text/plain": [
       "array([ 2,  3,  4,  1,  8,  5, 24])"
      ]
     },
     "execution_count": 12,
     "metadata": {},
     "output_type": "execute_result"
    }
   ],
   "source": [
    "df.Storeys.unique()"
   ]
  },
  {
   "cell_type": "code",
   "execution_count": 37,
   "id": "32583920",
   "metadata": {},
   "outputs": [],
   "source": [
    "df.loc[df.Storeys == 24 , 'Error'] = 1"
   ]
  },
  {
   "cell_type": "code",
   "execution_count": 14,
   "id": "b94363ec",
   "metadata": {},
   "outputs": [
    {
     "data": {
      "text/plain": [
       "array([4, 3, 2, 5, 1])"
      ]
     },
     "execution_count": 14,
     "metadata": {},
     "output_type": "execute_result"
    }
   ],
   "source": [
    "df.Bathrooms.unique()"
   ]
  },
  {
   "cell_type": "code",
   "execution_count": 15,
   "id": "d4773bf4",
   "metadata": {},
   "outputs": [
    {
     "data": {
      "text/plain": [
       "array(['Other', 'Stone', 'Monolit'], dtype=object)"
      ]
     },
     "execution_count": 15,
     "metadata": {},
     "output_type": "execute_result"
    }
   ],
   "source": [
    "df.BuildType.unique()"
   ]
  },
  {
   "cell_type": "code",
   "execution_count": 16,
   "id": "0adcc52f",
   "metadata": {},
   "outputs": [
    {
     "data": {
      "text/plain": [
       "array([2.8, 3.2, 3. , 3.8, 5. ])"
      ]
     },
     "execution_count": 16,
     "metadata": {},
     "output_type": "execute_result"
    }
   ],
   "source": [
    "df.CeilingHeight.unique()"
   ]
  },
  {
   "cell_type": "code",
   "execution_count": 17,
   "id": "e6f5ef90",
   "metadata": {},
   "outputs": [
    {
     "data": {
      "text/plain": [
       "array(['Good', 'Newly repaired', 'Zero condition'], dtype=object)"
      ]
     },
     "execution_count": 17,
     "metadata": {},
     "output_type": "execute_result"
    }
   ],
   "source": [
    "df.Condition.unique()"
   ]
  },
  {
   "cell_type": "code",
   "execution_count": 18,
   "id": "566c5316",
   "metadata": {},
   "outputs": [
    {
     "data": {
      "text/plain": [
       "count    690.000000\n",
       "mean      40.196703\n",
       "std        0.629787\n",
       "min       36.114322\n",
       "25%       40.183333\n",
       "50%       40.195686\n",
       "75%       40.214850\n",
       "max       53.726668\n",
       "Name: Latitude, dtype: float64"
      ]
     },
     "execution_count": 18,
     "metadata": {},
     "output_type": "execute_result"
    }
   ],
   "source": [
    "df.Latitude.describe()"
   ]
  },
  {
   "cell_type": "code",
   "execution_count": 38,
   "id": "089f8ec7",
   "metadata": {},
   "outputs": [],
   "source": [
    "df.loc[df.Latitude < 38 , 'Error'] = 1"
   ]
  },
  {
   "cell_type": "code",
   "execution_count": 20,
   "id": "c6f47ce5",
   "metadata": {},
   "outputs": [
    {
     "data": {
      "text/plain": [
       "count    690.000000\n",
       "mean      42.863327\n",
       "std       15.324128\n",
       "min     -127.647621\n",
       "25%       44.487231\n",
       "50%       44.510843\n",
       "75%       44.532364\n",
       "max       46.406795\n",
       "Name: Longitude, dtype: float64"
      ]
     },
     "execution_count": 20,
     "metadata": {},
     "output_type": "execute_result"
    }
   ],
   "source": [
    "df.Longitude.describe()"
   ]
  },
  {
   "cell_type": "code",
   "execution_count": 39,
   "id": "09186db9",
   "metadata": {},
   "outputs": [],
   "source": [
    "df.loc[df.Longitude < 40 , 'Error'] = 1"
   ]
  },
  {
   "cell_type": "code",
   "execution_count": 40,
   "id": "a4cda2b8",
   "metadata": {},
   "outputs": [
    {
     "data": {
      "text/html": [
       "<div>\n",
       "<style scoped>\n",
       "    .dataframe tbody tr th:only-of-type {\n",
       "        vertical-align: middle;\n",
       "    }\n",
       "\n",
       "    .dataframe tbody tr th {\n",
       "        vertical-align: top;\n",
       "    }\n",
       "\n",
       "    .dataframe thead th {\n",
       "        text-align: right;\n",
       "    }\n",
       "</style>\n",
       "<table border=\"1\" class=\"dataframe\">\n",
       "  <thead>\n",
       "    <tr style=\"text-align: right;\">\n",
       "      <th></th>\n",
       "      <th>ID</th>\n",
       "      <th>Location</th>\n",
       "      <th>Region</th>\n",
       "      <th>District</th>\n",
       "      <th>Street</th>\n",
       "      <th>Price</th>\n",
       "      <th>Views</th>\n",
       "      <th>Area</th>\n",
       "      <th>Room</th>\n",
       "      <th>Floors</th>\n",
       "      <th>...</th>\n",
       "      <th>Parquet</th>\n",
       "      <th>Playground</th>\n",
       "      <th>Roadside</th>\n",
       "      <th>Sauna</th>\n",
       "      <th>Securitysystem</th>\n",
       "      <th>Storageroom</th>\n",
       "      <th>Sunny</th>\n",
       "      <th>Swimmingpool</th>\n",
       "      <th>Tile</th>\n",
       "      <th>View</th>\n",
       "    </tr>\n",
       "  </thead>\n",
       "  <tbody>\n",
       "    <tr>\n",
       "      <th>0</th>\n",
       "      <td>121413</td>\n",
       "      <td>Tavush, Dilijan, Dilidjan</td>\n",
       "      <td>Tavush</td>\n",
       "      <td>Dilijan</td>\n",
       "      <td>Dilidjan</td>\n",
       "      <td>4500.0</td>\n",
       "      <td>122</td>\n",
       "      <td>1000</td>\n",
       "      <td>6</td>\n",
       "      <td>2</td>\n",
       "      <td>...</td>\n",
       "      <td>0</td>\n",
       "      <td>1</td>\n",
       "      <td>1</td>\n",
       "      <td>0</td>\n",
       "      <td>0</td>\n",
       "      <td>0</td>\n",
       "      <td>1</td>\n",
       "      <td>0</td>\n",
       "      <td>1</td>\n",
       "      <td>1</td>\n",
       "    </tr>\n",
       "    <tr>\n",
       "      <th>1</th>\n",
       "      <td>121226</td>\n",
       "      <td>Yerevan, Center, Kajaznuni St</td>\n",
       "      <td>Yerevan</td>\n",
       "      <td>Center</td>\n",
       "      <td>Kajaznuni St</td>\n",
       "      <td>4500.0</td>\n",
       "      <td>196</td>\n",
       "      <td>385</td>\n",
       "      <td>7</td>\n",
       "      <td>3</td>\n",
       "      <td>...</td>\n",
       "      <td>1</td>\n",
       "      <td>0</td>\n",
       "      <td>1</td>\n",
       "      <td>0</td>\n",
       "      <td>0</td>\n",
       "      <td>0</td>\n",
       "      <td>1</td>\n",
       "      <td>0</td>\n",
       "      <td>0</td>\n",
       "      <td>1</td>\n",
       "    </tr>\n",
       "    <tr>\n",
       "      <th>2</th>\n",
       "      <td>121050</td>\n",
       "      <td>Yerevan, Erebuni, Suvorov st</td>\n",
       "      <td>Yerevan</td>\n",
       "      <td>Erebuni</td>\n",
       "      <td>Suvorov st</td>\n",
       "      <td>3000.0</td>\n",
       "      <td>310</td>\n",
       "      <td>325</td>\n",
       "      <td>6</td>\n",
       "      <td>3</td>\n",
       "      <td>...</td>\n",
       "      <td>0</td>\n",
       "      <td>1</td>\n",
       "      <td>1</td>\n",
       "      <td>0</td>\n",
       "      <td>0</td>\n",
       "      <td>0</td>\n",
       "      <td>1</td>\n",
       "      <td>0</td>\n",
       "      <td>1</td>\n",
       "      <td>1</td>\n",
       "    </tr>\n",
       "    <tr>\n",
       "      <th>3</th>\n",
       "      <td>121014</td>\n",
       "      <td>Yerevan, Arabkir, Ghapantsian St</td>\n",
       "      <td>Yerevan</td>\n",
       "      <td>Arabkir</td>\n",
       "      <td>Ghapantsian St</td>\n",
       "      <td>4000.0</td>\n",
       "      <td>331</td>\n",
       "      <td>580</td>\n",
       "      <td>6</td>\n",
       "      <td>2</td>\n",
       "      <td>...</td>\n",
       "      <td>0</td>\n",
       "      <td>1</td>\n",
       "      <td>1</td>\n",
       "      <td>0</td>\n",
       "      <td>1</td>\n",
       "      <td>0</td>\n",
       "      <td>1</td>\n",
       "      <td>0</td>\n",
       "      <td>1</td>\n",
       "      <td>1</td>\n",
       "    </tr>\n",
       "    <tr>\n",
       "      <th>4</th>\n",
       "      <td>120996</td>\n",
       "      <td>Yerevan, Arabkir, Shrjancik Tunel</td>\n",
       "      <td>Yerevan</td>\n",
       "      <td>Arabkir</td>\n",
       "      <td>Shrjancik Tunel</td>\n",
       "      <td>4800.0</td>\n",
       "      <td>346</td>\n",
       "      <td>1000</td>\n",
       "      <td>4</td>\n",
       "      <td>2</td>\n",
       "      <td>...</td>\n",
       "      <td>0</td>\n",
       "      <td>1</td>\n",
       "      <td>1</td>\n",
       "      <td>0</td>\n",
       "      <td>0</td>\n",
       "      <td>0</td>\n",
       "      <td>1</td>\n",
       "      <td>0</td>\n",
       "      <td>1</td>\n",
       "      <td>1</td>\n",
       "    </tr>\n",
       "  </tbody>\n",
       "</table>\n",
       "<p>5 rows × 78 columns</p>\n",
       "</div>"
      ],
      "text/plain": [
       "       ID                           Location   Region  District  \\\n",
       "0  121413          Tavush, Dilijan, Dilidjan   Tavush   Dilijan   \n",
       "1  121226      Yerevan, Center, Kajaznuni St  Yerevan    Center   \n",
       "2  121050       Yerevan, Erebuni, Suvorov st  Yerevan   Erebuni   \n",
       "3  121014   Yerevan, Arabkir, Ghapantsian St  Yerevan   Arabkir   \n",
       "4  120996  Yerevan, Arabkir, Shrjancik Tunel  Yerevan   Arabkir   \n",
       "\n",
       "             Street   Price  Views  Area  Room  Floors  ...  Parquet  \\\n",
       "0          Dilidjan  4500.0    122  1000     6       2  ...        0   \n",
       "1      Kajaznuni St  4500.0    196   385     7       3  ...        1   \n",
       "2        Suvorov st  3000.0    310   325     6       3  ...        0   \n",
       "3    Ghapantsian St  4000.0    331   580     6       2  ...        0   \n",
       "4   Shrjancik Tunel  4800.0    346  1000     4       2  ...        0   \n",
       "\n",
       "  Playground  Roadside Sauna Securitysystem Storageroom Sunny  Swimmingpool  \\\n",
       "0          1         1     0              0           0     1             0   \n",
       "1          0         1     0              0           0     1             0   \n",
       "2          1         1     0              0           0     1             0   \n",
       "3          1         1     0              1           0     1             0   \n",
       "4          1         1     0              0           0     1             0   \n",
       "\n",
       "   Tile View  \n",
       "0     1    1  \n",
       "1     0    1  \n",
       "2     1    1  \n",
       "3     1    1  \n",
       "4     1    1  \n",
       "\n",
       "[5 rows x 78 columns]"
      ]
     },
     "execution_count": 40,
     "metadata": {},
     "output_type": "execute_result"
    }
   ],
   "source": [
    "df['Facilities'] = df['Facilities'].apply(lambda x: x.replace(\"]\", \"\"))\n",
    "df['Facilities'] = df['Facilities'].apply(lambda x: x.replace(\"[\", \"\"))\n",
    "df['Additional Info'] = df['Additional Info'].apply(lambda x: x.replace(\"]\", \"\"))\n",
    "df['Additional Info'] = df['Additional Info'].apply(lambda x: x.replace(\"[\", \"\"))\n",
    "df['Additional Info'] = df['Additional Info'].apply(lambda x: x.replace(\"'\", \"\"))\n",
    "df['Facilities'] = df['Facilities'].apply(lambda x: x.replace(\"'\", \"\"))\n",
    "df['Additional Info'] = df['Additional Info'].apply(lambda x: x.replace(\" \", \"\"))\n",
    "df['Facilities'] = df['Facilities'].apply(lambda x: x.replace(\" \", \"\"))\n",
    "df1 = pd.DataFrame(df['Facilities'].str.get_dummies(sep=','))\n",
    "df2 = pd.DataFrame(df['Additional Info'].str.get_dummies(sep=','))\n",
    "info = pd.concat([df1, df2], axis=1)\n",
    "house_rent = pd.concat([df, info], axis=1)\n",
    "house_rent.head()"
   ]
  },
  {
   "cell_type": "code",
   "execution_count": 23,
   "id": "d7ee563d",
   "metadata": {},
   "outputs": [
    {
     "data": {
      "text/plain": [
       "Index(['ID', 'Location', 'Region', 'District', 'Street', 'Price', 'Views',\n",
       "       'Area', 'Room', 'Storeys', 'Bathrooms', 'BuildType', 'CeilingHeight',\n",
       "       'Condition', 'Date Added', 'Date Edited', 'Date Scraped', 'Latitude',\n",
       "       'Longitude', 'Address', 'Facilities', 'Additional Info', 'url',\n",
       "       'on_request', 'Price/sqm', 'Error', 'Air-conditioner', 'Canalization',\n",
       "       'Centralheating', 'Electricity', 'Gas', 'Heating', 'Hotwater',\n",
       "       'Internet', 'Irrigation', 'Sewerage', 'Water', 'water24/7', 'Attic',\n",
       "       'Balcony', 'Basement', 'Bilateral', 'Buildingexistence',\n",
       "       'Closetothebusstation', 'Elevator', 'Equipment', 'Eurowindows', 'Fence',\n",
       "       'Fireplace', 'Furniture', 'Garage', 'Gate', 'Grating', 'Gym',\n",
       "       'Heatedfloor', 'Heater', 'Highfirstfloor', 'Irondoor',\n",
       "       'Laminateflooring', 'Loggia', 'Openbalcony', 'Park', 'Parking',\n",
       "       'Parquet', 'Playground', 'Roadside', 'Sauna', 'Securitysystem',\n",
       "       'Storageroom', 'Sunny', 'Swimmingpool', 'Tile', 'View'],\n",
       "      dtype='object')"
      ]
     },
     "execution_count": 23,
     "metadata": {},
     "output_type": "execute_result"
    }
   ],
   "source": [
    "house_rent.columns"
   ]
  },
  {
   "cell_type": "code",
   "execution_count": 41,
   "id": "a3ebd406",
   "metadata": {},
   "outputs": [],
   "source": [
    "house_rent.to_csv('house_rent_filtered.csv', index=False)"
   ]
  }
 ],
 "metadata": {
  "kernelspec": {
   "display_name": "Python 3",
   "language": "python",
   "name": "python3"
  },
  "language_info": {
   "codemirror_mode": {
    "name": "ipython",
    "version": 3
   },
   "file_extension": ".py",
   "mimetype": "text/x-python",
   "name": "python",
   "nbconvert_exporter": "python",
   "pygments_lexer": "ipython3",
   "version": "3.8.8"
  }
 },
 "nbformat": 4,
 "nbformat_minor": 5
}
